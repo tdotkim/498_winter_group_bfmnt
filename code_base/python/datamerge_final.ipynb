{
 "cells": [
  {
   "cell_type": "code",
   "execution_count": 1,
   "metadata": {},
   "outputs": [],
   "source": [
    "#imports\n",
    "import requests\n",
    "import pandas as pd\n",
    "import datetime as dt\n",
    "from google.cloud import bigquery\n",
    "from google.cloud import storage\n",
    "from shapely.geometry  import shape, Point\n",
    "from geopy.geocoders import Nominatim\n",
    "import numpy as np\n",
    "import meteostat as ms\n",
    "import os\n",
    "import io\n",
    "import json"
   ]
  },
  {
   "cell_type": "code",
   "execution_count": 2,
   "metadata": {},
   "outputs": [],
   "source": [
    "CREDS = \"C:/Users/tkkim/gcp_keys/capstone-team51-366963bafc54.json\"\n",
    "storage_client = storage.Client.from_service_account_json(json_credentials_path=CREDS,project='capstone-team51')\n",
    "bq_client = bigquery.Client.from_service_account_json(json_credentials_path=CREDS,project='capstone-team51')\n",
    "#client = bigquery.Client(project='capstone-team51')\n"
   ]
  },
  {
   "cell_type": "code",
   "execution_count": 3,
   "metadata": {},
   "outputs": [],
   "source": [
    "geolocator = Nominatim(user_agent=\"test_tk\")"
   ]
  },
  {
   "cell_type": "code",
   "execution_count": 4,
   "metadata": {},
   "outputs": [],
   "source": [
    "bucket = storage_client.get_bucket('capstone-team51-data')"
   ]
  },
  {
   "cell_type": "code",
   "execution_count": 121,
   "metadata": {},
   "outputs": [],
   "source": [
    "def get_commarea_env(df_, commarea):\n",
    "    dataframe = df_.copy()\n",
    "    dataframe['community_area']=''\n",
    "    for row in dataframe.index:\n",
    "        point = Point(dataframe.loc[row,'longitude'],dataframe.loc[row,'latitude'])\n",
    "        #print(point.xy)\n",
    "        for feature in commarea['features']:\n",
    "            polygon = shape(feature['geometry'])\n",
    "            if polygon.contains(point):\n",
    "                dataframe.loc[row, 'community_area'] = feature['properties']['area_numbe']\n",
    "                \n",
    "    return dataframe"
   ]
  },
  {
   "cell_type": "code",
   "execution_count": 6,
   "metadata": {},
   "outputs": [],
   "source": [
    "def getpoint(address):\n",
    "    loc = geolocator.geocode(address)\n",
    "    latlong = [loc.latitude, loc.longitude]\n",
    "    point = Point(latlong[1], latlong[0])   \n",
    "    return point"
   ]
  },
  {
   "cell_type": "code",
   "execution_count": 7,
   "metadata": {},
   "outputs": [],
   "source": [
    "def findarea(point, commarea):    \n",
    "    for feature in commarea['features']:\n",
    "        polygon = shape(feature['geometry'])\n",
    "        if polygon.contains(point):\n",
    "           return feature['properties']['area_numbe']\n",
    "        else:\n",
    "            continue\n",
    "        "
   ]
  },
  {
   "cell_type": "code",
   "execution_count": 8,
   "metadata": {},
   "outputs": [],
   "source": [
    "def load_df_gcs(prefix, filename):\n",
    "    df = pd.DataFrame()\n",
    "    for blob in storage_client.list_blobs('capstone-team51-data', prefix=prefix, delimiter='/'):\n",
    "        #print(blob.name)\n",
    "        if filename in blob.name:\n",
    "            #print(blob.name)\n",
    "            data = blob.download_as_bytes()\n",
    "            smalldf = pd.read_csv(io.BytesIO(data))\n",
    "            #print(smalldf)\n",
    "            df = pd.concat([df, smalldf])\n",
    "    return df"
   ]
  },
  {
   "cell_type": "code",
   "execution_count": 30,
   "metadata": {},
   "outputs": [],
   "source": [
    "base_df = load_df_gcs('raw_crimes/', 'chunk')\n",
    "three11_df = load_df_gcs('raw_311/', 'chunk')\n",
    "env_df = load_df_gcs('raw_environmental/', 'chunk')\n",
    "weather_df = load_df_gcs('raw_weather/', 'data')\n",
    "offenders_df = load_df_gcs('supporting/off_commarea/', 'csv')"
   ]
  },
  {
   "cell_type": "code",
   "execution_count": 31,
   "metadata": {},
   "outputs": [],
   "source": [
    "#stations_blob = bucket.blob('supporting_data/Police_Stations_20240120.csv').download_as_bytes()\n",
    "stations_df = load_df_gcs('supporting/', 'Police_Stations_20240120.csv')"
   ]
  },
  {
   "cell_type": "code",
   "execution_count": 88,
   "metadata": {},
   "outputs": [],
   "source": [
    "commarea = json.loads(bucket.blob('supporting/geojsons/Boundaries - Community Areas (current).geojson').download_as_string())"
   ]
  },
  {
   "cell_type": "code",
   "execution_count": 122,
   "metadata": {},
   "outputs": [],
   "source": [
    "env_df_ca = get_commarea_env(env_df, commarea)"
   ]
  },
  {
   "cell_type": "code",
   "execution_count": 89,
   "metadata": {},
   "outputs": [
    {
     "name": "stdout",
     "output_type": "stream",
     "text": [
      "(array('d', [-87.65552929240022]), array('d', [41.917035884002566]))\n",
      "(array('d', [-87.6943035754064]), array('d', [41.7726350742548]))\n",
      "(array('d', [-87.62226362586607]), array('d', [41.89245644738031]))\n",
      "(array('d', [-87.66062216016986]), array('d', [41.77597289860283]))\n",
      "(array('d', [-87.66456137666425]), array('d', [41.88132153435288]))\n",
      "(array('d', [-87.71989473766482]), array('d', [41.92467746779379]))\n",
      "(array('d', [-87.65448693822991]), array('d', [41.919591750448426]))\n",
      "(array('d', [-87.65291910670649]), array('d', [41.80683556082504]))\n",
      "(array('d', [-87.68597865072671]), array('d', [41.91574453238172]))\n",
      "(array('d', [-87.66850812645559]), array('d', [41.84676817855723]))\n",
      "(array('d', [-87.70332069298372]), array('d', [41.92559760883941]))\n",
      "(array('d', [-87.59839106098786]), array('d', [41.80973408310273]))\n",
      "(array('d', [-87.59839106098786]), array('d', [41.80973408310273]))\n",
      "(array('d', [-87.6587673705282]), array('d', [41.9780530838796]))\n",
      "(array('d', [-87.6812518370052]), array('d', [41.846552060058336]))\n",
      "(array('d', [-87.67314851164002]), array('d', [41.85598353104698]))\n",
      "(array('d', [-87.77704310206856]), array('d', [41.93138618106428]))\n",
      "(array('d', [-87.67698781654607]), array('d', [41.89880980456583]))\n",
      "(array('d', [-87.63683851187342]), array('d', [41.674455931139086]))\n",
      "(array('d', [-87.67185068956661]), array('d', [41.83031964485068]))\n",
      "(array('d', [-87.62848458337889]), array('d', [41.87224368592311]))\n",
      "(array('d', [-87.69434880817748]), array('d', [41.920921282115486]))\n",
      "(array('d', [-87.60607455836615]), array('d', [41.78031747048976]))\n",
      "(array('d', [-87.63344780864057]), array('d', [41.87296747271569]))\n",
      "(array('d', [-87.68595793037022]), array('d', [41.86907805736995]))\n",
      "(array('d', [-87.66882717817091]), array('d', [41.70356319436821]))\n",
      "(array('d', [-87.75013062387784]), array('d', [41.88333385194733]))\n",
      "(array('d', [-87.62733223871065]), array('d', [41.869839810616575]))\n",
      "(array('d', [-87.6524843089273]), array('d', [41.93800687233605]))\n",
      "(array('d', [-87.67849047648176]), array('d', [41.91035705898377]))\n",
      "(array('d', [-87.76871661020921]), array('d', [41.90038355697599]))\n",
      "(array('d', [-87.66105872231856]), array('d', [42.00564798468769]))\n",
      "(array('d', [-87.67024120013068]), array('d', [41.9476295251994]))\n",
      "(array('d', [-87.65446041635894]), array('d', [41.91885907977842]))\n",
      "(array('d', [-87.6524843089273]), array('d', [41.93800687233605]))\n",
      "(array('d', [-87.71158471161894]), array('d', [41.90381378795237]))\n",
      "(array('d', [-87.78511142551264]), array('d', [41.91755854786737]))\n",
      "(array('d', [-87.66758655215216]), array('d', [41.99630981677486]))\n",
      "(array('d', [-87.59759585223719]), array('d', [41.73249598864259]))\n",
      "(array('d', [-87.5828982514116]), array('d', [41.73139354331552]))\n",
      "(array('d', [-87.66758655215216]), array('d', [41.99630981677486]))\n",
      "(array('d', [-87.67161450321166]), array('d', [41.92862499471828]))\n",
      "(array('d', [-87.65446041635894]), array('d', [41.91885907977842]))\n",
      "(array('d', [-87.73241984040267]), array('d', [41.84947471508957]))\n",
      "(array('d', [-87.65515073432007]), array('d', [41.9872132788676]))\n",
      "(array('d', [-87.63720027259416]), array('d', [41.88349824310264]))\n",
      "(array('d', [-87.71773675438642]), array('d', [41.94717004794048]))\n",
      "(array('d', [-87.68373208107549]), array('d', [41.80861279133247]))\n",
      "(array('d', [-87.68373208107549]), array('d', [41.80861279133247]))\n",
      "(array('d', [-87.68566332514946]), array('d', [41.96395323202934]))\n",
      "(array('d', [-87.60375336825767]), array('d', [41.80971393857968]))\n",
      "(array('d', [-87.6259754174694]), array('d', [41.8717298990094]))\n",
      "(array('d', [-87.68939160755133]), array('d', [41.90491416740488]))\n",
      "(array('d', [-87.71131562489289]), array('d', [41.84582030388443]))\n",
      "(array('d', [-87.72553925911996]), array('d', [41.84127537320497]))\n",
      "(array('d', [-87.60242410240733]), array('d', [41.74460664090422]))\n",
      "(array('d', [-87.62717121629109]), array('d', [41.86304150878702]))\n",
      "(array('d', [-87.71760317825795]), array('d', [41.951589076732645]))\n",
      "(array('d', [-87.76509332343996]), array('d', [41.93765359663551]))\n",
      "(array('d', [-87.62588683636899]), array('d', [41.89769100583162]))\n",
      "(array('d', [-87.6586810075753]), array('d', [41.74849418746959]))\n",
      "(array('d', [-87.60798241053473]), array('d', [41.75842568164409]))\n",
      "(array('d', [-87.65718305889982]), array('d', [41.99470059651846]))\n",
      "(array('d', [-87.65645977925652]), array('d', [41.88173866691828]))\n",
      "(array('d', [-87.68113062623333]), array('d', [41.7630143112722]))\n",
      "(array('d', [-87.64545768879118]), array('d', [41.75270168158861]))\n",
      "(array('d', [-87.71517824082459]), array('d', [41.91331811898618]))\n",
      "(array('d', [-87.66783274423746]), array('d', [41.963321934993886]))\n",
      "(array('d', [-87.74169578954121]), array('d', [41.956604345734505]))\n",
      "(array('d', [-87.66705131906393]), array('d', [41.9864306570712]))\n",
      "(array('d', [-87.63344780864057]), array('d', [41.87296747271569]))\n",
      "(array('d', [-87.68566559757954]), array('d', [41.80246584672348]))\n",
      "(array('d', [-87.66979711145295]), array('d', [41.73923177127301]))\n",
      "(array('d', [-87.65368384844302]), array('d', [41.931874255475606]))\n",
      "(array('d', [-87.64545768879118]), array('d', [41.75270168158861]))\n",
      "(array('d', [-87.63049359166655]), array('d', [41.90380743789834]))\n",
      "(array('d', [-87.70528345469042]), array('d', [41.96676387135322]))\n",
      "(array('d', [-87.63344780864057]), array('d', [41.87296747271569]))\n",
      "(array('d', [-87.59994744312739]), array('d', [41.72933168441775]))\n",
      "(array('d', [-87.62673380278648]), array('d', [41.90386322288343]))\n",
      "(array('d', [-87.56156044595498]), array('d', [41.76371528073738]))\n",
      "(array('d', [-87.7510141290018]), array('d', [41.97493979855641]))\n",
      "(array('d', [-87.80124358792882]), array('d', [41.92366003293248]))\n",
      "(array('d', [-87.67232047613972]), array('d', [41.71462913445969]))\n",
      "(array('d', [-87.70973747797528]), array('d', [41.93290643992414]))\n",
      "(array('d', [-87.67698781654607]), array('d', [41.89880980456583]))\n",
      "(array('d', [-87.63344780864057]), array('d', [41.87296747271569]))\n",
      "(array('d', [-87.7028908611505]), array('d', [41.95068079728912]))\n",
      "(array('d', [-87.7311317840529]), array('d', [41.958201579657214]))\n",
      "(array('d', [-87.6376418943412]), array('d', [41.915123507693565]))\n",
      "(array('d', [-87.66850812645559]), array('d', [41.84676817855723]))\n",
      "(array('d'), array('d'))\n",
      "(array('d', [-87.67992360839908]), array('d', [41.93215369725963]))\n",
      "(array('d', [-87.74759541072387]), array('d', [41.87319225055247]))\n",
      "(array('d', [-87.67415033629639]), array('d', [42.01668938211222]))\n"
     ]
    }
   ],
   "source": [
    "# dph env complaints\n",
    "\n",
    "grouped_complaints_by_commarea = env_df.groupby('community_area').agg(total_complaints_in_ca=('complaint_id','count')).reset_index()"
   ]
  },
  {
   "cell_type": "code",
   "execution_count": 93,
   "metadata": {},
   "outputs": [
    {
     "name": "stdout",
     "output_type": "stream",
     "text": [
      "7\n"
     ]
    }
   ],
   "source": [
    "point = Point(env_df.loc[0,'longitude'],env_df.loc[0,'latitude'])\n",
    "#print(point.xy)\n",
    "for feature in commarea['features']:\n",
    "    polygon = shape(feature['geometry'])\n",
    "    if polygon.contains(point):\n",
    "        print(feature['properties']['area_numbe'])"
   ]
  },
  {
   "cell_type": "code",
   "execution_count": 66,
   "metadata": {},
   "outputs": [],
   "source": [
    "# 311 complaints\n",
    "grouped_date = three11_df.groupby([three11_df['created_date'].dt.date,'community_area','sr_type']).agg(total_count=('sr_number','count')).reset_index()\n",
    "pivoted = grouped_date.pivot_table(index=['created_date','community_area'],columns='sr_type',values='total_count',aggfunc='sum').fillna(0).reset_index()\n",
    "pivoted['created_date'] = pd.to_datetime(pivoted['created_date'])\n",
    "pivoted.rename(columns={'created_date':'date'}, inplace=True)"
   ]
  },
  {
   "cell_type": "code",
   "execution_count": 74,
   "metadata": {},
   "outputs": [],
   "source": [
    "# merge offenders in\n",
    "big_df = base_df.merge(offenders_df, how='left', on='community_area')\n",
    "big_df['date'] = pd.to_datetime(big_df['date'])"
   ]
  },
  {
   "cell_type": "code",
   "execution_count": 82,
   "metadata": {},
   "outputs": [
    {
     "data": {
      "text/html": [
       "<div>\n",
       "<style scoped>\n",
       "    .dataframe tbody tr th:only-of-type {\n",
       "        vertical-align: middle;\n",
       "    }\n",
       "\n",
       "    .dataframe tbody tr th {\n",
       "        vertical-align: top;\n",
       "    }\n",
       "\n",
       "    .dataframe thead th {\n",
       "        text-align: right;\n",
       "    }\n",
       "</style>\n",
       "<table border=\"1\" class=\"dataframe\">\n",
       "  <thead>\n",
       "    <tr style=\"text-align: right;\">\n",
       "      <th></th>\n",
       "      <th>community_area</th>\n",
       "      <th>total_complaints_in_ca</th>\n",
       "    </tr>\n",
       "  </thead>\n",
       "  <tbody>\n",
       "    <tr>\n",
       "      <th>0</th>\n",
       "      <td>9999</td>\n",
       "      <td>95</td>\n",
       "    </tr>\n",
       "  </tbody>\n",
       "</table>\n",
       "</div>"
      ],
      "text/plain": [
       "   community_area  total_complaints_in_ca\n",
       "0            9999                      95"
      ]
     },
     "execution_count": 82,
     "metadata": {},
     "output_type": "execute_result"
    }
   ],
   "source": [
    "grouped_complaints_by_commarea"
   ]
  },
  {
   "cell_type": "code",
   "execution_count": 76,
   "metadata": {},
   "outputs": [],
   "source": [
    "# merge dph env complaints\n",
    "big_df = big_df.merge(grouped_complaints_by_commarea, how='left', left_on='community_area', right_on='community_area')"
   ]
  },
  {
   "cell_type": "code",
   "execution_count": 78,
   "metadata": {},
   "outputs": [
    {
     "data": {
      "text/plain": [
       "0.0"
      ]
     },
     "execution_count": 78,
     "metadata": {},
     "output_type": "execute_result"
    }
   ],
   "source": [
    "big_df.total_complaints_in_ca.sum()"
   ]
  },
  {
   "cell_type": "code",
   "execution_count": 72,
   "metadata": {},
   "outputs": [],
   "source": [
    "big_df = pivoted.merge(pivoted,how='left', on=['date', 'community_area'])"
   ]
  },
  {
   "cell_type": "code",
   "execution_count": 73,
   "metadata": {},
   "outputs": [
    {
     "data": {
      "text/html": [
       "<div>\n",
       "<style scoped>\n",
       "    .dataframe tbody tr th:only-of-type {\n",
       "        vertical-align: middle;\n",
       "    }\n",
       "\n",
       "    .dataframe tbody tr th {\n",
       "        vertical-align: top;\n",
       "    }\n",
       "\n",
       "    .dataframe thead th {\n",
       "        text-align: right;\n",
       "    }\n",
       "</style>\n",
       "<table border=\"1\" class=\"dataframe\">\n",
       "  <thead>\n",
       "    <tr style=\"text-align: right;\">\n",
       "      <th>sr_type</th>\n",
       "      <th>date</th>\n",
       "      <th>community_area</th>\n",
       "      <th>Abandoned Vehicle Complaint_x</th>\n",
       "      <th>Aircraft Noise Complaint_x</th>\n",
       "      <th>Alley Light Out Complaint_x</th>\n",
       "      <th>Alley Pothole Complaint_x</th>\n",
       "      <th>Alley Sewer Inspection Request_x</th>\n",
       "      <th>Animal In Trap Complaint_x</th>\n",
       "      <th>Bee/Wasp Removal_x</th>\n",
       "      <th>Bicycle Request/Complaint_x</th>\n",
       "      <th>...</th>\n",
       "      <th>Viaduct Light Out Complaint_y</th>\n",
       "      <th>Vicious Animal Complaint_y</th>\n",
       "      <th>Wage Complaint_y</th>\n",
       "      <th>Water Lead Test Kit Request_y</th>\n",
       "      <th>Water Lead Test Visit Request_y</th>\n",
       "      <th>Water On Street Complaint_y</th>\n",
       "      <th>Water Quality Concern_y</th>\n",
       "      <th>Water in Basement Complaint_y</th>\n",
       "      <th>Wire Basket Request_y</th>\n",
       "      <th>Yard Waste Pick-Up Request_y</th>\n",
       "    </tr>\n",
       "  </thead>\n",
       "  <tbody>\n",
       "    <tr>\n",
       "      <th>0</th>\n",
       "      <td>2023-12-31</td>\n",
       "      <td>1.0</td>\n",
       "      <td>1.0</td>\n",
       "      <td>0.0</td>\n",
       "      <td>0.0</td>\n",
       "      <td>0.0</td>\n",
       "      <td>0.0</td>\n",
       "      <td>0.0</td>\n",
       "      <td>0.0</td>\n",
       "      <td>0.0</td>\n",
       "      <td>...</td>\n",
       "      <td>0.0</td>\n",
       "      <td>0.0</td>\n",
       "      <td>0.0</td>\n",
       "      <td>1.0</td>\n",
       "      <td>0.0</td>\n",
       "      <td>0.0</td>\n",
       "      <td>0.0</td>\n",
       "      <td>0.0</td>\n",
       "      <td>0.0</td>\n",
       "      <td>0.0</td>\n",
       "    </tr>\n",
       "    <tr>\n",
       "      <th>1</th>\n",
       "      <td>2023-12-31</td>\n",
       "      <td>2.0</td>\n",
       "      <td>2.0</td>\n",
       "      <td>0.0</td>\n",
       "      <td>0.0</td>\n",
       "      <td>0.0</td>\n",
       "      <td>0.0</td>\n",
       "      <td>0.0</td>\n",
       "      <td>0.0</td>\n",
       "      <td>0.0</td>\n",
       "      <td>...</td>\n",
       "      <td>0.0</td>\n",
       "      <td>0.0</td>\n",
       "      <td>0.0</td>\n",
       "      <td>2.0</td>\n",
       "      <td>0.0</td>\n",
       "      <td>1.0</td>\n",
       "      <td>0.0</td>\n",
       "      <td>0.0</td>\n",
       "      <td>0.0</td>\n",
       "      <td>1.0</td>\n",
       "    </tr>\n",
       "    <tr>\n",
       "      <th>2</th>\n",
       "      <td>2023-12-31</td>\n",
       "      <td>3.0</td>\n",
       "      <td>1.0</td>\n",
       "      <td>0.0</td>\n",
       "      <td>0.0</td>\n",
       "      <td>0.0</td>\n",
       "      <td>0.0</td>\n",
       "      <td>0.0</td>\n",
       "      <td>0.0</td>\n",
       "      <td>0.0</td>\n",
       "      <td>...</td>\n",
       "      <td>0.0</td>\n",
       "      <td>0.0</td>\n",
       "      <td>0.0</td>\n",
       "      <td>2.0</td>\n",
       "      <td>0.0</td>\n",
       "      <td>0.0</td>\n",
       "      <td>0.0</td>\n",
       "      <td>0.0</td>\n",
       "      <td>0.0</td>\n",
       "      <td>0.0</td>\n",
       "    </tr>\n",
       "    <tr>\n",
       "      <th>3</th>\n",
       "      <td>2023-12-31</td>\n",
       "      <td>4.0</td>\n",
       "      <td>0.0</td>\n",
       "      <td>0.0</td>\n",
       "      <td>0.0</td>\n",
       "      <td>0.0</td>\n",
       "      <td>0.0</td>\n",
       "      <td>0.0</td>\n",
       "      <td>0.0</td>\n",
       "      <td>0.0</td>\n",
       "      <td>...</td>\n",
       "      <td>0.0</td>\n",
       "      <td>0.0</td>\n",
       "      <td>0.0</td>\n",
       "      <td>3.0</td>\n",
       "      <td>0.0</td>\n",
       "      <td>0.0</td>\n",
       "      <td>0.0</td>\n",
       "      <td>0.0</td>\n",
       "      <td>0.0</td>\n",
       "      <td>0.0</td>\n",
       "    </tr>\n",
       "    <tr>\n",
       "      <th>4</th>\n",
       "      <td>2023-12-31</td>\n",
       "      <td>5.0</td>\n",
       "      <td>0.0</td>\n",
       "      <td>0.0</td>\n",
       "      <td>0.0</td>\n",
       "      <td>0.0</td>\n",
       "      <td>0.0</td>\n",
       "      <td>0.0</td>\n",
       "      <td>0.0</td>\n",
       "      <td>0.0</td>\n",
       "      <td>...</td>\n",
       "      <td>0.0</td>\n",
       "      <td>0.0</td>\n",
       "      <td>0.0</td>\n",
       "      <td>0.0</td>\n",
       "      <td>0.0</td>\n",
       "      <td>0.0</td>\n",
       "      <td>0.0</td>\n",
       "      <td>0.0</td>\n",
       "      <td>0.0</td>\n",
       "      <td>0.0</td>\n",
       "    </tr>\n",
       "  </tbody>\n",
       "</table>\n",
       "<p>5 rows × 198 columns</p>\n",
       "</div>"
      ],
      "text/plain": [
       "sr_type       date  community_area  Abandoned Vehicle Complaint_x  \\\n",
       "0       2023-12-31             1.0                            1.0   \n",
       "1       2023-12-31             2.0                            2.0   \n",
       "2       2023-12-31             3.0                            1.0   \n",
       "3       2023-12-31             4.0                            0.0   \n",
       "4       2023-12-31             5.0                            0.0   \n",
       "\n",
       "sr_type  Aircraft Noise Complaint_x  Alley Light Out Complaint_x  \\\n",
       "0                               0.0                          0.0   \n",
       "1                               0.0                          0.0   \n",
       "2                               0.0                          0.0   \n",
       "3                               0.0                          0.0   \n",
       "4                               0.0                          0.0   \n",
       "\n",
       "sr_type  Alley Pothole Complaint_x  Alley Sewer Inspection Request_x  \\\n",
       "0                              0.0                               0.0   \n",
       "1                              0.0                               0.0   \n",
       "2                              0.0                               0.0   \n",
       "3                              0.0                               0.0   \n",
       "4                              0.0                               0.0   \n",
       "\n",
       "sr_type  Animal In Trap Complaint_x  Bee/Wasp Removal_x  \\\n",
       "0                               0.0                 0.0   \n",
       "1                               0.0                 0.0   \n",
       "2                               0.0                 0.0   \n",
       "3                               0.0                 0.0   \n",
       "4                               0.0                 0.0   \n",
       "\n",
       "sr_type  Bicycle Request/Complaint_x  ...  Viaduct Light Out Complaint_y  \\\n",
       "0                                0.0  ...                            0.0   \n",
       "1                                0.0  ...                            0.0   \n",
       "2                                0.0  ...                            0.0   \n",
       "3                                0.0  ...                            0.0   \n",
       "4                                0.0  ...                            0.0   \n",
       "\n",
       "sr_type  Vicious Animal Complaint_y  Wage Complaint_y  \\\n",
       "0                               0.0               0.0   \n",
       "1                               0.0               0.0   \n",
       "2                               0.0               0.0   \n",
       "3                               0.0               0.0   \n",
       "4                               0.0               0.0   \n",
       "\n",
       "sr_type  Water Lead Test Kit Request_y  Water Lead Test Visit Request_y  \\\n",
       "0                                  1.0                              0.0   \n",
       "1                                  2.0                              0.0   \n",
       "2                                  2.0                              0.0   \n",
       "3                                  3.0                              0.0   \n",
       "4                                  0.0                              0.0   \n",
       "\n",
       "sr_type  Water On Street Complaint_y  Water Quality Concern_y  \\\n",
       "0                                0.0                      0.0   \n",
       "1                                1.0                      0.0   \n",
       "2                                0.0                      0.0   \n",
       "3                                0.0                      0.0   \n",
       "4                                0.0                      0.0   \n",
       "\n",
       "sr_type  Water in Basement Complaint_y  Wire Basket Request_y  \\\n",
       "0                                  0.0                    0.0   \n",
       "1                                  0.0                    0.0   \n",
       "2                                  0.0                    0.0   \n",
       "3                                  0.0                    0.0   \n",
       "4                                  0.0                    0.0   \n",
       "\n",
       "sr_type  Yard Waste Pick-Up Request_y  \n",
       "0                                 0.0  \n",
       "1                                 1.0  \n",
       "2                                 0.0  \n",
       "3                                 0.0  \n",
       "4                                 0.0  \n",
       "\n",
       "[5 rows x 198 columns]"
      ]
     },
     "execution_count": 73,
     "metadata": {},
     "output_type": "execute_result"
    }
   ],
   "source": [
    "big_df.head()"
   ]
  },
  {
   "cell_type": "code",
   "execution_count": 68,
   "metadata": {},
   "outputs": [],
   "source": [
    "prefix_file_dict = {'raw_crimes/': 'chunk', \n",
    "                    'raw_311/': 'chunk', \n",
    "                    'raw_environmental/': 'chunk', \n",
    "                    'raw_weather/': 'data'}"
   ]
  },
  {
   "cell_type": "code",
   "execution_count": 77,
   "metadata": {},
   "outputs": [
    {
     "name": "stdout",
     "output_type": "stream",
     "text": [
      "raw_crimes/\n",
      "raw_311/\n",
      "raw_environmental/\n",
      "raw_weather/\n"
     ]
    }
   ],
   "source": [
    "df_holder = []\n",
    "for key, value in prefix_file_dict.items():\n",
    "    smallholder = {}\n",
    "    df = load_df_gcs(key, value)\n",
    "    smallholder['name'] = key\n",
    "    smallholder['df'] = df\n",
    "    df_holder.append(smallholder)"
   ]
  },
  {
   "cell_type": "code",
   "execution_count": 65,
   "metadata": {},
   "outputs": [],
   "source": [
    "x = load_df_gcs('raw_weather/', 'data')"
   ]
  }
 ],
 "metadata": {
  "kernelspec": {
   "display_name": "Python 3",
   "language": "python",
   "name": "python3"
  },
  "language_info": {
   "codemirror_mode": {
    "name": "ipython",
    "version": 3
   },
   "file_extension": ".py",
   "mimetype": "text/x-python",
   "name": "python",
   "nbconvert_exporter": "python",
   "pygments_lexer": "ipython3",
   "version": "3.12.1"
  }
 },
 "nbformat": 4,
 "nbformat_minor": 2
}
