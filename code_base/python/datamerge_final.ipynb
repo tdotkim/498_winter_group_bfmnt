{
 "cells": [
  {
   "cell_type": "code",
   "execution_count": 110,
   "metadata": {},
   "outputs": [],
   "source": [
    "#imports\n",
    "import requests\n",
    "import pandas as pd\n",
    "import datetime as dt\n",
    "from google.cloud import bigquery\n",
    "from google.cloud import storage\n",
    "from shapely.geometry  import shape, Point\n",
    "from geopy.geocoders import Nominatim\n",
    "import numpy as np\n",
    "import meteostat as ms\n",
    "import os\n",
    "import io\n",
    "import json"
   ]
  },
  {
   "cell_type": "code",
   "execution_count": 111,
   "metadata": {},
   "outputs": [],
   "source": [
    "CREDS = \"C:/Users/tkkim/gcp_keys/capstone-team51-366963bafc54.json\"\n",
    "storage_client = storage.Client.from_service_account_json(json_credentials_path=CREDS,project='capstone-team51')\n",
    "bq_client = bigquery.Client.from_service_account_json(json_credentials_path=CREDS,project='capstone-team51')\n",
    "#client = bigquery.Client(project='capstone-team51')\n"
   ]
  },
  {
   "cell_type": "code",
   "execution_count": 112,
   "metadata": {},
   "outputs": [],
   "source": [
    "geolocator = Nominatim(user_agent=\"test_tk\")"
   ]
  },
  {
   "cell_type": "code",
   "execution_count": 113,
   "metadata": {},
   "outputs": [],
   "source": [
    "bucket = storage_client.get_bucket('capstone-team51-data')"
   ]
  },
  {
   "cell_type": "code",
   "execution_count": 114,
   "metadata": {},
   "outputs": [],
   "source": [
    "def get_commarea_env(df_, commarea):\n",
    "    dataframe = df_.copy()\n",
    "    dataframe['community_area']=''\n",
    "    for row in dataframe.index:\n",
    "        point = Point(dataframe.loc[row,'longitude'],dataframe.loc[row,'latitude'])\n",
    "        #print(point.xy)\n",
    "        for feature in commarea['features']:\n",
    "            polygon = shape(feature['geometry'])\n",
    "            if polygon.contains(point):\n",
    "                dataframe.loc[row, 'community_area'] = feature['properties']['area_numbe']\n",
    "                \n",
    "    return dataframe"
   ]
  },
  {
   "cell_type": "code",
   "execution_count": 115,
   "metadata": {},
   "outputs": [],
   "source": [
    "def getpoint(address):\n",
    "    loc = geolocator.geocode(address)\n",
    "    latlong = [loc.latitude, loc.longitude]\n",
    "    point = Point(latlong[1], latlong[0])   \n",
    "    return point"
   ]
  },
  {
   "cell_type": "code",
   "execution_count": 116,
   "metadata": {},
   "outputs": [],
   "source": [
    "def findarea(point, commarea):    \n",
    "    for feature in commarea['features']:\n",
    "        polygon = shape(feature['geometry'])\n",
    "        if polygon.contains(point):\n",
    "           return feature['properties']['area_numbe']\n",
    "        else:\n",
    "            continue\n",
    "        "
   ]
  },
  {
   "cell_type": "code",
   "execution_count": 117,
   "metadata": {},
   "outputs": [],
   "source": [
    "def load_df_gcs(prefix, filename):\n",
    "    df = pd.DataFrame()\n",
    "    for blob in storage_client.list_blobs('capstone-team51-data', prefix=prefix, delimiter='/'):\n",
    "        #print(blob.name)\n",
    "        if filename in blob.name:\n",
    "            #print(blob.name)\n",
    "            data = blob.download_as_bytes()\n",
    "            smalldf = pd.read_csv(io.BytesIO(data))\n",
    "            #print(smalldf)\n",
    "            df = pd.concat([df, smalldf])\n",
    "    return df"
   ]
  },
  {
   "cell_type": "code",
   "execution_count": 118,
   "metadata": {},
   "outputs": [],
   "source": [
    "base_df = load_df_gcs('raw_crimes/', 'chunk')\n",
    "three11_df = load_df_gcs('raw_311/', 'chunk')\n",
    "env_df = load_df_gcs('raw_environmental/', 'chunk')\n",
    "weather_df = load_df_gcs('raw_weather/', 'data')\n",
    "offenders_df = load_df_gcs('supporting/off_commarea/', 'csv')"
   ]
  },
  {
   "cell_type": "code",
   "execution_count": 119,
   "metadata": {},
   "outputs": [],
   "source": [
    "#stations_blob = bucket.blob('supporting_data/Police_Stations_20240120.csv').download_as_bytes()\n",
    "stations_df = load_df_gcs('supporting/', 'Police_Stations_20240120.csv')"
   ]
  },
  {
   "cell_type": "code",
   "execution_count": 120,
   "metadata": {},
   "outputs": [],
   "source": [
    "commarea = json.loads(bucket.blob('supporting/geojsons/Boundaries - Community Areas (current).geojson').download_as_string())"
   ]
  },
  {
   "cell_type": "code",
   "execution_count": 121,
   "metadata": {},
   "outputs": [],
   "source": [
    "env_df_ca = get_commarea_env(env_df, commarea)"
   ]
  },
  {
   "cell_type": "code",
   "execution_count": 122,
   "metadata": {},
   "outputs": [],
   "source": [
    "env_df_ca['community_area'] = np.where(env_df_ca['community_area'] == '', 9999, env_df_ca['community_area'])"
   ]
  },
  {
   "cell_type": "code",
   "execution_count": 123,
   "metadata": {},
   "outputs": [
    {
     "data": {
      "text/plain": [
       "Index(['complaint_id', 'complaint_type', 'address', 'street_number',\n",
       "       'direction', 'street_name', 'street_type', 'inspector',\n",
       "       'complaint_date', 'inspection_log', 'data_source', 'modified_date',\n",
       "       'latitude', 'longitude', 'location.type', 'location.coordinates',\n",
       "       'complaint_detail', 'community_area'],\n",
       "      dtype='object')"
      ]
     },
     "execution_count": 123,
     "metadata": {},
     "output_type": "execute_result"
    }
   ],
   "source": [
    "env_df_ca.columns"
   ]
  },
  {
   "cell_type": "code",
   "execution_count": 187,
   "metadata": {},
   "outputs": [],
   "source": [
    "# dph env complaints\n",
    "\n",
    "grouped_complaints_by_commarea = env_df_ca.groupby(['complaint_date','community_area']).agg(total_complaints_in_ca=('complaint_id','count')).reset_index()\n",
    "grouped_complaints_by_commarea.rename(columns={'complaint_date':'date'}, inplace=True)\n",
    "grouped_complaints_by_commarea['date'] = pd.to_datetime(grouped_complaints_by_commarea['date']).dt.date\n",
    "grouped_complaints_by_commarea['community_area'] = grouped_complaints_by_commarea['community_area'].astype(int)"
   ]
  },
  {
   "cell_type": "code",
   "execution_count": 188,
   "metadata": {},
   "outputs": [
    {
     "ename": "AttributeError",
     "evalue": "'DataFrame' object has no attribute 'dty'",
     "output_type": "error",
     "traceback": [
      "\u001b[1;31m---------------------------------------------------------------------------\u001b[0m",
      "\u001b[1;31mAttributeError\u001b[0m                            Traceback (most recent call last)",
      "\u001b[1;32m~\\AppData\\Local\\Temp\\ipykernel_33204\\1584267471.py\u001b[0m in \u001b[0;36m?\u001b[1;34m()\u001b[0m\n\u001b[1;32m----> 1\u001b[1;33m \u001b[0mgrouped_complaints_by_commarea\u001b[0m\u001b[1;33m.\u001b[0m\u001b[0mdty\u001b[0m\u001b[1;33m\u001b[0m\u001b[1;33m\u001b[0m\u001b[0m\n\u001b[0m",
      "\u001b[1;32mc:\\Users\\tkkim\\AppData\\Local\\Programs\\Python\\Python311\\Lib\\site-packages\\pandas\\core\\generic.py\u001b[0m in \u001b[0;36m?\u001b[1;34m(self, name)\u001b[0m\n\u001b[0;32m   6200\u001b[0m             \u001b[1;32mand\u001b[0m \u001b[0mname\u001b[0m \u001b[1;32mnot\u001b[0m \u001b[1;32min\u001b[0m \u001b[0mself\u001b[0m\u001b[1;33m.\u001b[0m\u001b[0m_accessors\u001b[0m\u001b[1;33m\u001b[0m\u001b[1;33m\u001b[0m\u001b[0m\n\u001b[0;32m   6201\u001b[0m             \u001b[1;32mand\u001b[0m \u001b[0mself\u001b[0m\u001b[1;33m.\u001b[0m\u001b[0m_info_axis\u001b[0m\u001b[1;33m.\u001b[0m\u001b[0m_can_hold_identifiers_and_holds_name\u001b[0m\u001b[1;33m(\u001b[0m\u001b[0mname\u001b[0m\u001b[1;33m)\u001b[0m\u001b[1;33m\u001b[0m\u001b[1;33m\u001b[0m\u001b[0m\n\u001b[0;32m   6202\u001b[0m         ):\n\u001b[0;32m   6203\u001b[0m             \u001b[1;32mreturn\u001b[0m \u001b[0mself\u001b[0m\u001b[1;33m[\u001b[0m\u001b[0mname\u001b[0m\u001b[1;33m]\u001b[0m\u001b[1;33m\u001b[0m\u001b[1;33m\u001b[0m\u001b[0m\n\u001b[1;32m-> 6204\u001b[1;33m         \u001b[1;32mreturn\u001b[0m \u001b[0mobject\u001b[0m\u001b[1;33m.\u001b[0m\u001b[0m__getattribute__\u001b[0m\u001b[1;33m(\u001b[0m\u001b[0mself\u001b[0m\u001b[1;33m,\u001b[0m \u001b[0mname\u001b[0m\u001b[1;33m)\u001b[0m\u001b[1;33m\u001b[0m\u001b[1;33m\u001b[0m\u001b[0m\n\u001b[0m",
      "\u001b[1;31mAttributeError\u001b[0m: 'DataFrame' object has no attribute 'dty'"
     ]
    }
   ],
   "source": [
    "grouped_complaints_by_commarea.dty"
   ]
  },
  {
   "cell_type": "code",
   "execution_count": 189,
   "metadata": {},
   "outputs": [],
   "source": [
    "# 311 complaints\n",
    "grouped_date = three11_df.groupby([three11_df['created_date'],'community_area','sr_type']).agg(total_count=('sr_number','count')).reset_index()\n",
    "pivoted = grouped_date.pivot_table(index=['created_date','community_area'],columns='sr_type',values='total_count',aggfunc='sum').fillna(0).reset_index()\n",
    "pivoted['created_date'] = pd.to_datetime(pivoted['created_date'])\n",
    "pivoted.rename(columns={'created_date':'date'}, inplace=True)\n",
    "pivoted['community_area'] = pivoted['community_area'].astype(int)\n",
    "pivoted['date'] = pd.to_datetime(pivoted['date']).dt.date"
   ]
  },
  {
   "cell_type": "code",
   "execution_count": 216,
   "metadata": {},
   "outputs": [],
   "source": [
    "# merge offenders in\n",
    "big_df = base_df.copy().merge(offenders_df, how='left', on='community_area')\n",
    "big_df['date'] = pd.to_datetime(big_df['date']).dt.date\n",
    "big_df['community_area'] = big_df['community_area'].fillna(9999).astype('int64')"
   ]
  },
  {
   "cell_type": "code",
   "execution_count": 217,
   "metadata": {},
   "outputs": [],
   "source": [
    "# merge weather in\n",
    "weather_df.rename(columns={'time':'date'}, inplace=True)\n",
    "weather_df['date'] = pd.to_datetime(weather_df['date']).dt.date\n",
    "big_df['date'] = pd.to_datetime(big_df['date']).dt.date\n",
    "big_df = big_df.merge(weather_df, how='left', on='date')"
   ]
  },
  {
   "cell_type": "code",
   "execution_count": 199,
   "metadata": {},
   "outputs": [],
   "source": [
    "# merge dph env complaints\n",
    "big_df = big_df.merge(grouped_complaints_by_commarea, how='left', on=['date','community_area'])"
   ]
  },
  {
   "cell_type": "code",
   "execution_count": 201,
   "metadata": {},
   "outputs": [],
   "source": [
    "big_df = big_df.merge(pivoted,how='left', on=['date', 'community_area'])"
   ]
  }
 ],
 "metadata": {
  "kernelspec": {
   "display_name": "Python 3",
   "language": "python",
   "name": "python3"
  },
  "language_info": {
   "codemirror_mode": {
    "name": "ipython",
    "version": 3
   },
   "file_extension": ".py",
   "mimetype": "text/x-python",
   "name": "python",
   "nbconvert_exporter": "python",
   "pygments_lexer": "ipython3",
   "version": "3.11.5"
  }
 },
 "nbformat": 4,
 "nbformat_minor": 2
}
