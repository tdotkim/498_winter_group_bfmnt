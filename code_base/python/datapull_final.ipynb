{
 "cells": [
  {
   "cell_type": "code",
   "execution_count": 9,
   "metadata": {},
   "outputs": [],
   "source": [
    "#imports\n",
    "import requests\n",
    "import pandas as pd\n",
    "import os\n",
    "from datetime import datetime\n",
    "#from google.cloud import bigquery\n",
    "from google.cloud import storage"
   ]
  },
  {
   "cell_type": "code",
   "execution_count": 10,
   "metadata": {},
   "outputs": [],
   "source": [
    "CREDS = \"C:/Users/tkkim/gcp_keys/capstone-team51-366963bafc54.json\"\n",
    "storage_client = storage.Client.from_service_account_json(json_credentials_path=CREDS,project='capstone-team51')\n",
    "#client = bigquery.Client(project='capstone-team51')\n"
   ]
  },
  {
   "cell_type": "code",
   "execution_count": 16,
   "metadata": {},
   "outputs": [],
   "source": [
    "bucket = storage_client.get_bucket('capstone-team51-data')"
   ]
  },
  {
   "cell_type": "code",
   "execution_count": 26,
   "metadata": {},
   "outputs": [],
   "source": [
    "testblob = bucket.blob('raw_311/test.txt')"
   ]
  },
  {
   "cell_type": "code",
   "execution_count": 27,
   "metadata": {},
   "outputs": [],
   "source": [
    "testblob.upload_from_string(\"Hello world\")"
   ]
  },
  {
   "cell_type": "code",
   "execution_count": 21,
   "metadata": {},
   "outputs": [],
   "source": [
    "blobs = bucket.list_blobs()\n"
   ]
  },
  {
   "cell_type": "code",
   "execution_count": null,
   "metadata": {},
   "outputs": [],
   "source": [
    "testblob.upload_from_filename(path_to_file)\n"
   ]
  },
  {
   "cell_type": "code",
   "execution_count": 28,
   "metadata": {},
   "outputs": [
    {
     "data": {
      "text/plain": [
       "'https://storage.googleapis.com/capstone-team51-data/raw_311/test.txt'"
      ]
     },
     "execution_count": 28,
     "metadata": {},
     "output_type": "execute_result"
    }
   ],
   "source": [
    "testblob.public_url"
   ]
  },
  {
   "cell_type": "code",
   "execution_count": 22,
   "metadata": {},
   "outputs": [
    {
     "data": {
      "text/plain": [
       "<google.api_core.page_iterator.HTTPIterator at 0x1b998059c50>"
      ]
     },
     "execution_count": 22,
     "metadata": {},
     "output_type": "execute_result"
    }
   ],
   "source": [
    "blobs"
   ]
  },
  {
   "cell_type": "code",
   "execution_count": 23,
   "metadata": {},
   "outputs": [
    {
     "name": "stdout",
     "output_type": "stream",
     "text": [
      "/raw_311/test.txt\n",
      "chatbot/\n",
      "chatbot/ChicagoCrimeJan24.xlsx\n",
      "consolidated/\n",
      "consolidated/5_years_merged_with_weather_and_311and_policedistance.csv\n",
      "logs/\n",
      "raw_311/\n",
      "raw_311/archive/\n",
      "raw_311/archive/graffiti5_chunk_0.json\n",
      "raw_311/archive/graffiti5_chunk_1.json\n",
      "raw_311/archive/graffiti5_chunk_10.json\n",
      "raw_311/archive/graffiti5_chunk_11.json\n",
      "raw_311/archive/graffiti5_chunk_2.json\n",
      "raw_311/archive/graffiti5_chunk_3.json\n",
      "raw_311/archive/graffiti5_chunk_4.json\n",
      "raw_311/archive/graffiti5_chunk_5.json\n",
      "raw_311/archive/graffiti5_chunk_6.json\n",
      "raw_311/archive/graffiti5_chunk_7.json\n",
      "raw_311/archive/graffiti5_chunk_8.json\n",
      "raw_311/archive/graffiti5_chunk_9.json\n",
      "raw_crimes/\n",
      "raw_crimes/archive/\n",
      "raw_crimes/archive/crime5_chunk_0.json\n",
      "raw_crimes/archive/crime5_chunk_1.json\n",
      "raw_crimes/archive/crime5_chunk_2.json\n",
      "raw_crimes/archive/crime_chunk_0.json\n",
      "raw_environmental/\n",
      "raw_environmental/archive/\n",
      "raw_environmental/archive/envcomplaint5_chunk_0.json\n",
      "supporting/\n",
      "supporting/Police_Stations_20240120.csv\n",
      "supporting/geojsons/Boundaries - Community Areas (current).geojson\n",
      "supporting/geojsons/Boundaries - Neighborhoods.geojson\n",
      "supporting/geojsons/Boundaries_ZIP_Codes.geojson\n",
      "supporting/offeders_cleaned.csv\n",
      "supporting/weather.csv\n"
     ]
    }
   ],
   "source": [
    "for blob in blobs:\n",
    "        print(blob.name)\n"
   ]
  },
  {
   "cell_type": "code",
   "execution_count": 6,
   "metadata": {},
   "outputs": [],
   "source": [
    "timestamp = datetime.now()\n",
    "timestamp = timestamp.strftime(\"%Y%m%d\")"
   ]
  },
  {
   "cell_type": "code",
   "execution_count": null,
   "metadata": {},
   "outputs": [],
   "source": [
    "bucket = storage_client.bucket(bucket_name)\n",
    "blob = bucket.blob(blob_name)\n"
   ]
  },
  {
   "cell_type": "code",
   "execution_count": null,
   "metadata": {},
   "outputs": [],
   "source": [
    "#primary data pull function\n",
    "\n",
    "def get_data(name, db, maxrows, parameters):\n",
    "    # some key info\n",
    "    db_id = db\n",
    "    limit = maxrows\n",
    "    i = 0\n",
    "    offset_counter = 0\n",
    "    pickle = True\n",
    "    data_name = name\n",
    "    # dict for logging\n",
    "    log_dict = {}\n",
    "\n",
    "    # base url for the request\n",
    "    baseurl = (\"https://data.cityofchicago.org/resource/\"\n",
    "            f\"{db_id}.json?\")\n",
    "\n",
    "    while pickle:\n",
    "        #set our params\n",
    "        # note that you have to URL econde \n",
    "        params = parameters + (\n",
    "            f\"&$limit={limit}\"\n",
    "            f\"&$offset={offset_counter}\"\n",
    "            #f\"&$$app_token={token}\"\n",
    "        )\n",
    "        \n",
    "        # make the request \n",
    "        data_req = requests.get(baseurl+params)\n",
    "\n",
    "        # convert to json\n",
    "        data_json = data_req.json()\n",
    "\n",
    "        # make it a df\n",
    "        df = pd.json_normalize(data_json)\n",
    "\n",
    "        # write df\n",
    "        \n",
    "        \n",
    "        # log\n",
    "        minilog = {}\n",
    "        minilog['records'] = df.shape[0]\n",
    "        minilog['chunk'] = i\n",
    "        minilog['status'] = data_req.status_code\n",
    "        minilog['offset'] = offset_counter\n",
    "        log_dict[f'run_{i}'] = minilog\n",
    "        log_df = pd.DataFrame.from_dict(log_dict,orient='index')\n",
    "        \n",
    "        if df.shape[0] == 0:\n",
    "            break\n",
    "        else:\n",
    "            df.to_json(f'{desti_folder}/{timestamp}_{data_name}_chunk_{i}.json',orient='records', lines=True)\n",
    "            log_df.to_csv(f'{desti_folder}/{timestamp}_{data_name}_log.csv')\n",
    "\n",
    "        # increment the chunk count\n",
    "        print(i)\n",
    "        i += 1\n",
    "\n",
    "        # increment the offset\n",
    "        offset_counter += limit\n",
    "\n",
    "        # check if we need to end the loop\n",
    "        if df.shape[0] == 0:\n",
    "            pickle = False\n",
    "        elif data_req.status_code == 200:\n",
    "            pickle = True\n",
    "        else: \n",
    "            pickle = False\n",
    "            print(data_req.status_code)\n",
    "\n",
    "    return df"
   ]
  }
 ],
 "metadata": {
  "kernelspec": {
   "display_name": "Python 3",
   "language": "python",
   "name": "python3"
  },
  "language_info": {
   "codemirror_mode": {
    "name": "ipython",
    "version": 3
   },
   "file_extension": ".py",
   "mimetype": "text/x-python",
   "name": "python",
   "nbconvert_exporter": "python",
   "pygments_lexer": "ipython3",
   "version": "3.11.5"
  }
 },
 "nbformat": 4,
 "nbformat_minor": 2
}
