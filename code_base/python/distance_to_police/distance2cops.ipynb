{
 "cells": [
  {
   "cell_type": "code",
   "execution_count": 2,
   "metadata": {},
   "outputs": [],
   "source": [
    "import pandas as pd\n",
    "import os\n",
    "import json\n",
    "import glob\n",
    "from shapely.geometry  import shape, Point\n",
    "from geopy.geocoders import Nominatim\n",
    "from geopy import distance\n",
    "import numpy as np"
   ]
  },
  {
   "cell_type": "code",
   "execution_count": 3,
   "metadata": {},
   "outputs": [],
   "source": [
    "geolocator = Nominatim(user_agent=\"test_tk\")"
   ]
  },
  {
   "cell_type": "code",
   "execution_count": 4,
   "metadata": {},
   "outputs": [],
   "source": [
    "list_of_stations = pd.read_csv('./Police_Stations_20240120.csv')"
   ]
  },
  {
   "cell_type": "code",
   "execution_count": 36,
   "metadata": {},
   "outputs": [],
   "source": [
    "#uncomment for user input\n",
    "#input_addr = input(\"Enter an address like (121 N LaSalle St Chicago): \")\n",
    "\n",
    "# uncomment for hard coded address\n",
    "input_addr = \"121 N LaSalle St CHICAGO\""
   ]
  },
  {
   "cell_type": "code",
   "execution_count": 37,
   "metadata": {},
   "outputs": [],
   "source": [
    "input_geolocator = geolocator.geocode(input_addr)\n",
    "input_latlong = (input_geolocator.latitude, input_geolocator.longitude)\n",
    "input_point = Point(input_latlong[1], input_latlong[0])"
   ]
  },
  {
   "cell_type": "code",
   "execution_count": 38,
   "metadata": {},
   "outputs": [
    {
     "data": {
      "text/plain": [
       "(41.88341706625744, -87.632303164487)"
      ]
     },
     "execution_count": 38,
     "metadata": {},
     "output_type": "execute_result"
    }
   ],
   "source": [
    "input_latlong"
   ]
  },
  {
   "cell_type": "code",
   "execution_count": 46,
   "metadata": {},
   "outputs": [],
   "source": [
    "distance_list = []\n",
    "\n",
    "for index, row in list_of_stations.iterrows():\n",
    "    distance_holder = {}\n",
    "    station_latlong = [row['LATITUDE'], row['LONGITUDE']]\n",
    "    station_point = Point(station_latlong[0], station_latlong[1])\n",
    "    distance_holder['station'] = row['ADDRESS']\n",
    "    distance_holder['distance'] = distance.distance(input_latlong, station_latlong).miles\n",
    "\n",
    "    distance_list.append(distance_holder)"
   ]
  },
  {
   "cell_type": "code",
   "execution_count": 53,
   "metadata": {},
   "outputs": [
    {
     "name": "stdout",
     "output_type": "stream",
     "text": [
      "The nearest police station is 1160 N Larrabee St at 1.48 miles\n"
     ]
    }
   ],
   "source": [
    "distance_df = pd.DataFrame(distance_list)\n",
    "nearest_station = distance_df.iloc[distance_df['distance'].idxmin()]\n",
    "\n",
    "print(f\"The nearest police station is {nearest_station['station']} at {nearest_station['distance']:.2f} miles\" )"
   ]
  }
 ],
 "metadata": {
  "kernelspec": {
   "display_name": "Python 3",
   "language": "python",
   "name": "python3"
  },
  "language_info": {
   "codemirror_mode": {
    "name": "ipython",
    "version": 3
   },
   "file_extension": ".py",
   "mimetype": "text/x-python",
   "name": "python",
   "nbconvert_exporter": "python",
   "pygments_lexer": "ipython3",
   "version": "3.9.10"
  }
 },
 "nbformat": 4,
 "nbformat_minor": 2
}
