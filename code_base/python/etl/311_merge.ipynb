{
 "cells": [
  {
   "cell_type": "code",
   "execution_count": 1,
   "metadata": {},
   "outputs": [],
   "source": [
    "import pandas as pd\n",
    "import numpy as np\n",
    "import datetime as dt"
   ]
  },
  {
   "cell_type": "code",
   "execution_count": 3,
   "metadata": {},
   "outputs": [
    {
     "name": "stderr",
     "output_type": "stream",
     "text": [
      "C:\\Users\\tkkim\\AppData\\Local\\Temp\\ipykernel_38500\\2734616513.py:1: DtypeWarning: Columns (8) have mixed types. Specify dtype option on import or set low_memory=False.\n",
      "  maindf = pd.read_csv('./results/5_years_311_merged.csv')\n"
     ]
    }
   ],
   "source": [
    "maindf = pd.read_csv('./results/5_years_311_merged.csv')"
   ]
  },
  {
   "cell_type": "code",
   "execution_count": 8,
   "metadata": {},
   "outputs": [],
   "source": [
    "maindf['created_date'] = pd.to_datetime(maindf['created_date'])"
   ]
  },
  {
   "cell_type": "code",
   "execution_count": 23,
   "metadata": {},
   "outputs": [],
   "source": [
    "grouped_date = maindf.groupby([maindf['created_date'].dt.date,'community_area','sr_type']).agg(total_count=('sr_number','count')).reset_index()"
   ]
  },
  {
   "cell_type": "code",
   "execution_count": 26,
   "metadata": {},
   "outputs": [],
   "source": [
    "grouped_date.pivot_table(index=['created_date','community_area'],columns='sr_type',values='total_count',aggfunc='sum').fillna(0).reset_index().to_csv('./results/agged_311.csv')"
   ]
  },
  {
   "cell_type": "code",
   "execution_count": 28,
   "metadata": {},
   "outputs": [],
   "source": [
    "pivoted = grouped_date.pivot_table(index=['created_date','community_area'],columns='sr_type',values='total_count',aggfunc='sum').fillna(0).reset_index()"
   ]
  },
  {
   "cell_type": "code",
   "execution_count": 27,
   "metadata": {},
   "outputs": [],
   "source": [
    "merged_df = pd.read_csv('./results/5_years_merged_with_weather.csv')"
   ]
  },
  {
   "cell_type": "code",
   "execution_count": 44,
   "metadata": {},
   "outputs": [],
   "source": [
    "merged_df['date'] = pd.to_datetime(merged_df['date'])\n",
    "pivoted['created_date'] = pd.to_datetime(pivoted['created_date'])"
   ]
  },
  {
   "cell_type": "code",
   "execution_count": 58,
   "metadata": {},
   "outputs": [],
   "source": [
    "bigmerged = merged_df.merge(pivoted,how='left',left_on=[merged_df['date'].dt.date,'community_area'],right_on=[pivoted['created_date'].dt.date,'community_area'])"
   ]
  },
  {
   "cell_type": "code",
   "execution_count": 55,
   "metadata": {},
   "outputs": [],
   "source": [
    "bigmerged.drop(['created_date', 'key_0'],axis=1,inplace=True)  "
   ]
  },
  {
   "cell_type": "code",
   "execution_count": 56,
   "metadata": {},
   "outputs": [],
   "source": [
    "bigmerged.to_csv('./results/5_years_merged_with_weather_and_311.csv',index=False)"
   ]
  },
  {
   "cell_type": "code",
   "execution_count": 57,
   "metadata": {},
   "outputs": [
    {
     "data": {
      "text/html": [
       "<div>\n",
       "<style scoped>\n",
       "    .dataframe tbody tr th:only-of-type {\n",
       "        vertical-align: middle;\n",
       "    }\n",
       "\n",
       "    .dataframe tbody tr th {\n",
       "        vertical-align: top;\n",
       "    }\n",
       "\n",
       "    .dataframe thead th {\n",
       "        text-align: right;\n",
       "    }\n",
       "</style>\n",
       "<table border=\"1\" class=\"dataframe\">\n",
       "  <thead>\n",
       "    <tr style=\"text-align: right;\">\n",
       "      <th></th>\n",
       "      <th>id</th>\n",
       "      <th>case_number</th>\n",
       "      <th>date</th>\n",
       "      <th>block</th>\n",
       "      <th>iucr</th>\n",
       "      <th>primary_type</th>\n",
       "      <th>description</th>\n",
       "      <th>location_description</th>\n",
       "      <th>arrest</th>\n",
       "      <th>domestic</th>\n",
       "      <th>...</th>\n",
       "      <th>Vicious Animal Complaint</th>\n",
       "      <th>Wage Complaint</th>\n",
       "      <th>Water Lead Test Kit Request</th>\n",
       "      <th>Water Lead Test Visit Request</th>\n",
       "      <th>Water On Street Complaint</th>\n",
       "      <th>Water Quality Concern</th>\n",
       "      <th>Water in Basement Complaint</th>\n",
       "      <th>Weed Removal Request</th>\n",
       "      <th>Wire Basket Request</th>\n",
       "      <th>Yard Waste Pick-Up Request</th>\n",
       "    </tr>\n",
       "  </thead>\n",
       "  <tbody>\n",
       "    <tr>\n",
       "      <th>0</th>\n",
       "      <td>13211437</td>\n",
       "      <td>JG425074</td>\n",
       "      <td>2019-01-01</td>\n",
       "      <td>009XX N HAMLIN AVE</td>\n",
       "      <td>1562</td>\n",
       "      <td>SEX OFFENSE</td>\n",
       "      <td>AGGRAVATED CRIMINAL SEXUAL ABUSE</td>\n",
       "      <td>RESIDENCE</td>\n",
       "      <td>False</td>\n",
       "      <td>False</td>\n",
       "      <td>...</td>\n",
       "      <td>0.0</td>\n",
       "      <td>0.0</td>\n",
       "      <td>0.0</td>\n",
       "      <td>0.0</td>\n",
       "      <td>0.0</td>\n",
       "      <td>0.0</td>\n",
       "      <td>0.0</td>\n",
       "      <td>0.0</td>\n",
       "      <td>0.0</td>\n",
       "      <td>0.0</td>\n",
       "    </tr>\n",
       "    <tr>\n",
       "      <th>1</th>\n",
       "      <td>11895528</td>\n",
       "      <td>JC515003</td>\n",
       "      <td>2019-01-01</td>\n",
       "      <td>059XX W LELAND AVE</td>\n",
       "      <td>1153</td>\n",
       "      <td>DECEPTIVE PRACTICE</td>\n",
       "      <td>FINANCIAL IDENTITY THEFT OVER $ 300</td>\n",
       "      <td>NaN</td>\n",
       "      <td>False</td>\n",
       "      <td>False</td>\n",
       "      <td>...</td>\n",
       "      <td>0.0</td>\n",
       "      <td>0.0</td>\n",
       "      <td>1.0</td>\n",
       "      <td>0.0</td>\n",
       "      <td>0.0</td>\n",
       "      <td>0.0</td>\n",
       "      <td>0.0</td>\n",
       "      <td>0.0</td>\n",
       "      <td>0.0</td>\n",
       "      <td>0.0</td>\n",
       "    </tr>\n",
       "    <tr>\n",
       "      <th>2</th>\n",
       "      <td>12325061</td>\n",
       "      <td>JE180772</td>\n",
       "      <td>2019-01-01</td>\n",
       "      <td>045XX S CHAMPLAIN AVE</td>\n",
       "      <td>0265</td>\n",
       "      <td>CRIMINAL SEXUAL ASSAULT</td>\n",
       "      <td>AGGRAVATED - OTHER</td>\n",
       "      <td>RESIDENCE</td>\n",
       "      <td>False</td>\n",
       "      <td>False</td>\n",
       "      <td>...</td>\n",
       "      <td>NaN</td>\n",
       "      <td>NaN</td>\n",
       "      <td>NaN</td>\n",
       "      <td>NaN</td>\n",
       "      <td>NaN</td>\n",
       "      <td>NaN</td>\n",
       "      <td>NaN</td>\n",
       "      <td>NaN</td>\n",
       "      <td>NaN</td>\n",
       "      <td>NaN</td>\n",
       "    </tr>\n",
       "    <tr>\n",
       "      <th>3</th>\n",
       "      <td>12298601</td>\n",
       "      <td>JE148751</td>\n",
       "      <td>2019-01-01</td>\n",
       "      <td>057XX S WOLCOTT AVE</td>\n",
       "      <td>1153</td>\n",
       "      <td>DECEPTIVE PRACTICE</td>\n",
       "      <td>FINANCIAL IDENTITY THEFT OVER $ 300</td>\n",
       "      <td>RESIDENCE</td>\n",
       "      <td>False</td>\n",
       "      <td>False</td>\n",
       "      <td>...</td>\n",
       "      <td>0.0</td>\n",
       "      <td>0.0</td>\n",
       "      <td>0.0</td>\n",
       "      <td>0.0</td>\n",
       "      <td>0.0</td>\n",
       "      <td>0.0</td>\n",
       "      <td>0.0</td>\n",
       "      <td>0.0</td>\n",
       "      <td>0.0</td>\n",
       "      <td>0.0</td>\n",
       "    </tr>\n",
       "    <tr>\n",
       "      <th>4</th>\n",
       "      <td>12312332</td>\n",
       "      <td>JE165297</td>\n",
       "      <td>2019-01-01</td>\n",
       "      <td>009XX W 76TH ST</td>\n",
       "      <td>0266</td>\n",
       "      <td>CRIMINAL SEXUAL ASSAULT</td>\n",
       "      <td>PREDATORY</td>\n",
       "      <td>RESIDENCE</td>\n",
       "      <td>False</td>\n",
       "      <td>False</td>\n",
       "      <td>...</td>\n",
       "      <td>0.0</td>\n",
       "      <td>0.0</td>\n",
       "      <td>0.0</td>\n",
       "      <td>0.0</td>\n",
       "      <td>0.0</td>\n",
       "      <td>0.0</td>\n",
       "      <td>0.0</td>\n",
       "      <td>0.0</td>\n",
       "      <td>0.0</td>\n",
       "      <td>0.0</td>\n",
       "    </tr>\n",
       "  </tbody>\n",
       "</table>\n",
       "<p>5 rows × 136 columns</p>\n",
       "</div>"
      ],
      "text/plain": [
       "         id case_number       date                  block  iucr  \\\n",
       "0  13211437    JG425074 2019-01-01     009XX N HAMLIN AVE  1562   \n",
       "1  11895528    JC515003 2019-01-01     059XX W LELAND AVE  1153   \n",
       "2  12325061    JE180772 2019-01-01  045XX S CHAMPLAIN AVE  0265   \n",
       "3  12298601    JE148751 2019-01-01    057XX S WOLCOTT AVE  1153   \n",
       "4  12312332    JE165297 2019-01-01        009XX W 76TH ST  0266   \n",
       "\n",
       "              primary_type                          description  \\\n",
       "0              SEX OFFENSE     AGGRAVATED CRIMINAL SEXUAL ABUSE   \n",
       "1       DECEPTIVE PRACTICE  FINANCIAL IDENTITY THEFT OVER $ 300   \n",
       "2  CRIMINAL SEXUAL ASSAULT                   AGGRAVATED - OTHER   \n",
       "3       DECEPTIVE PRACTICE  FINANCIAL IDENTITY THEFT OVER $ 300   \n",
       "4  CRIMINAL SEXUAL ASSAULT                            PREDATORY   \n",
       "\n",
       "  location_description  arrest  domestic  ...  Vicious Animal Complaint  \\\n",
       "0            RESIDENCE   False     False  ...                       0.0   \n",
       "1                  NaN   False     False  ...                       0.0   \n",
       "2            RESIDENCE   False     False  ...                       NaN   \n",
       "3            RESIDENCE   False     False  ...                       0.0   \n",
       "4            RESIDENCE   False     False  ...                       0.0   \n",
       "\n",
       "   Wage Complaint  Water Lead Test Kit Request  Water Lead Test Visit Request  \\\n",
       "0             0.0                          0.0                            0.0   \n",
       "1             0.0                          1.0                            0.0   \n",
       "2             NaN                          NaN                            NaN   \n",
       "3             0.0                          0.0                            0.0   \n",
       "4             0.0                          0.0                            0.0   \n",
       "\n",
       "  Water On Street Complaint  Water Quality Concern  \\\n",
       "0                       0.0                    0.0   \n",
       "1                       0.0                    0.0   \n",
       "2                       NaN                    NaN   \n",
       "3                       0.0                    0.0   \n",
       "4                       0.0                    0.0   \n",
       "\n",
       "  Water in Basement Complaint  Weed Removal Request  Wire Basket Request  \\\n",
       "0                         0.0                   0.0                  0.0   \n",
       "1                         0.0                   0.0                  0.0   \n",
       "2                         NaN                   NaN                  NaN   \n",
       "3                         0.0                   0.0                  0.0   \n",
       "4                         0.0                   0.0                  0.0   \n",
       "\n",
       "   Yard Waste Pick-Up Request  \n",
       "0                         0.0  \n",
       "1                         0.0  \n",
       "2                         NaN  \n",
       "3                         0.0  \n",
       "4                         0.0  \n",
       "\n",
       "[5 rows x 136 columns]"
      ]
     },
     "execution_count": 57,
     "metadata": {},
     "output_type": "execute_result"
    }
   ],
   "source": [
    "bigmerged.head()"
   ]
  }
 ],
 "metadata": {
  "kernelspec": {
   "display_name": "Python 3",
   "language": "python",
   "name": "python3"
  },
  "language_info": {
   "codemirror_mode": {
    "name": "ipython",
    "version": 3
   },
   "file_extension": ".py",
   "mimetype": "text/x-python",
   "name": "python",
   "nbconvert_exporter": "python",
   "pygments_lexer": "ipython3",
   "version": "3.9.10"
  }
 },
 "nbformat": 4,
 "nbformat_minor": 2
}
