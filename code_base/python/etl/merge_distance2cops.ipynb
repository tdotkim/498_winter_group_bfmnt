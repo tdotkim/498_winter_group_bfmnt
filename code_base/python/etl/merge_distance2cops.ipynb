{
 "cells": [
  {
   "cell_type": "code",
   "execution_count": 1,
   "metadata": {},
   "outputs": [],
   "source": [
    "import pandas as pd\n",
    "import os\n",
    "import json\n",
    "import glob\n",
    "from shapely.geometry  import shape, Point\n",
    "from geopy.geocoders import Nominatim\n",
    "from geopy import distance\n",
    "import numpy as np"
   ]
  },
  {
   "cell_type": "code",
   "execution_count": 2,
   "metadata": {},
   "outputs": [],
   "source": [
    "geolocator = Nominatim(user_agent=\"test_tk\")"
   ]
  },
  {
   "cell_type": "code",
   "execution_count": 4,
   "metadata": {},
   "outputs": [],
   "source": [
    "bigdf = pd.read_csv('./results/5_years_merged_with_weather_and_311and_policedistance.csv')"
   ]
  },
  {
   "cell_type": "code",
   "execution_count": 7,
   "metadata": {},
   "outputs": [],
   "source": [
    "POLICE_DF = pd.read_csv('./Police_Stations_20240120.csv')"
   ]
  },
  {
   "cell_type": "code",
   "execution_count": 32,
   "metadata": {},
   "outputs": [],
   "source": [
    "def find_closest(lat, long):\n",
    "    if lat == 0 or long == 0:\n",
    "        return 'No Lat/Long', 999999\n",
    "    else:\n",
    "        try:\n",
    "            input_latlong = (long,lat)\n",
    "            #distance_list = []\n",
    "            pdf = POLICE_DF.copy()\n",
    "            pdf['distance'] = pdf.apply(lambda x: distance.distance(input_latlong, (x.LONGITUDE,x.LATITUDE)).miles, axis=1)\n",
    "            nearest_station = pdf.iloc[pdf['distance'].idxmin()]\n",
    "            #print(nearest_station)\n",
    "            return nearest_station['ADDRESS'], nearest_station['distance']\n",
    "            \"\"\"for row in POLICE_DF.iterrows():\n",
    "                distance_holder = {}\n",
    "                station_latlong = [row['LATITUDE'], row['LONGITUDE']]\n",
    "                distance_holder['station'] = row['ADDRESS']\n",
    "                distance_holder['distance'] = distance.distance(input_latlong, station_latlong).miles\n",
    "\n",
    "                distance_list.append(distance_holder)\n",
    "                distance_df = pd.DataFrame(distance_list)\n",
    "                nearest_station = distance_df.iloc[distance_df['distance'].idxmin()]\n",
    "                print(f\"{distance_df.head()}\")\n",
    "                return nearest_station['station'], nearest_station['distance'] \"\"\"\n",
    "        except Exception as e:\n",
    "            #print(e)\n",
    "            return 'Error something something', 999999"
   ]
  },
  {
   "cell_type": "code",
   "execution_count": 33,
   "metadata": {},
   "outputs": [
    {
     "data": {
      "text/plain": [
       "('5101 S Wentworth Ave', 0.2952944847352142)"
      ]
     },
     "execution_count": 33,
     "metadata": {},
     "output_type": "execute_result"
    }
   ],
   "source": [
    "find_closest(41.818171,-87.634761)"
   ]
  },
  {
   "cell_type": "code",
   "execution_count": 37,
   "metadata": {},
   "outputs": [
    {
     "name": "stderr",
     "output_type": "stream",
     "text": [
      "C:\\Users\\tkkim\\AppData\\Local\\Temp\\ipykernel_25720\\3486701180.py:2: SettingWithCopyWarning: \n",
      "A value is trying to be set on a copy of a slice from a DataFrame.\n",
      "Try using .loc[row_indexer,col_indexer] = value instead\n",
      "\n",
      "See the caveats in the documentation: https://pandas.pydata.org/pandas-docs/stable/user_guide/indexing.html#returning-a-view-versus-a-copy\n",
      "  minidf[['closest_station', 'closest_station_distance']] = minidf.apply(lambda x: find_closest(x.latitude, x.longitude), axis=1, result_type='expand')\n"
     ]
    }
   ],
   "source": [
    "minidf = bigdf.iloc[50:400]\n",
    "minidf[['closest_station', 'closest_station_distance']] = minidf.apply(lambda x: find_closest(x.latitude, x.longitude), axis=1, result_type='expand')"
   ]
  },
  {
   "cell_type": "code",
   "execution_count": 34,
   "metadata": {},
   "outputs": [],
   "source": [
    "#bigdf[['closest_station', 'closest_station_distance']] = bigdf[bigdf['latitude'].isnull() == False].apply(lambda x: find_closest(x.longitude, x.latitude), axis=1, result_type='expand')"
   ]
  },
  {
   "cell_type": "code",
   "execution_count": 39,
   "metadata": {},
   "outputs": [
    {
     "name": "stderr",
     "output_type": "stream",
     "text": [
      "c:\\Users\\tkkim\\AppData\\Local\\Programs\\Python\\Python311\\Lib\\site-packages\\geopy\\point.py:472: UserWarning: Latitude normalization has been prohibited in the newer versions of geopy, because the normalized value happened to be on a different pole, which is probably not what was meant. If you pass coordinates as positional args, please make sure that the order is (latitude, longitude) or (y, x) in Cartesian terms.\n",
      "  return cls(*args)\n",
      "c:\\Users\\tkkim\\AppData\\Local\\Programs\\Python\\Python311\\Lib\\site-packages\\geopy\\point.py:472: UserWarning: Latitude normalization has been prohibited in the newer versions of geopy, because the normalized value happened to be on a different pole, which is probably not what was meant. If you pass coordinates as positional args, please make sure that the order is (latitude, longitude) or (y, x) in Cartesian terms.\n",
      "  return cls(*args)\n",
      "c:\\Users\\tkkim\\AppData\\Local\\Programs\\Python\\Python311\\Lib\\site-packages\\geopy\\point.py:472: UserWarning: Latitude normalization has been prohibited in the newer versions of geopy, because the normalized value happened to be on a different pole, which is probably not what was meant. If you pass coordinates as positional args, please make sure that the order is (latitude, longitude) or (y, x) in Cartesian terms.\n",
      "  return cls(*args)\n",
      "c:\\Users\\tkkim\\AppData\\Local\\Programs\\Python\\Python311\\Lib\\site-packages\\geopy\\point.py:472: UserWarning: Latitude normalization has been prohibited in the newer versions of geopy, because the normalized value happened to be on a different pole, which is probably not what was meant. If you pass coordinates as positional args, please make sure that the order is (latitude, longitude) or (y, x) in Cartesian terms.\n",
      "  return cls(*args)\n"
     ]
    }
   ],
   "source": [
    "bigdf[['closest_station', 'closest_station_distance']] = bigdf.apply(lambda x: find_closest(x.latitude, x.longitude), axis=1, result_type='expand')"
   ]
  },
  {
   "cell_type": "code",
   "execution_count": 41,
   "metadata": {},
   "outputs": [],
   "source": [
    "bigdf.to_csv('./results/5_years_merged_with_weather_and_311and_policedistance.csv', index=False)"
   ]
  },
  {
   "cell_type": "code",
   "execution_count": 40,
   "metadata": {},
   "outputs": [
    {
     "data": {
      "text/plain": [
       "closest_station\n",
       "4650 N Pulaski Rd            126155\n",
       "3510 S Michigan Ave           91850\n",
       "2255 E 103rd St               86124\n",
       "6464 N Clark St               66840\n",
       "5400 N Lincoln Ave            64612\n",
       "5101 S Wentworth Ave          63675\n",
       "5555 W Grand Ave              62736\n",
       "5701 W Madison St             59033\n",
       "3315 W Ogden Ave              54965\n",
       "7040 S Cottage Grove Ave      54771\n",
       "1412 S Blue Island Ave\\n      48172\n",
       "1438 W 63rd St                44980\n",
       "1718 S State St               43696\n",
       "727 E 111th St                40676\n",
       "2150 N California Ave         38913\n",
       "7808 S Halsted St             37980\n",
       "1900 W Monterey Ave           35332\n",
       "1160 N Larrabee St            34239\n",
       "3151 W Harrison St            34134\n",
       "850 W Addison St              32129\n",
       "3120 S Halsted St             24341\n",
       "Error something something     17011\n",
       "3420 W 63rd St                14446\n",
       "5151 N Milwaukee Ave           4329\n",
       "Name: count, dtype: int64"
      ]
     },
     "execution_count": 40,
     "metadata": {},
     "output_type": "execute_result"
    }
   ],
   "source": [
    "bigdf['closest_station'].value_counts()"
   ]
  }
 ],
 "metadata": {
  "kernelspec": {
   "display_name": "Python 3",
   "language": "python",
   "name": "python3"
  },
  "language_info": {
   "codemirror_mode": {
    "name": "ipython",
    "version": 3
   },
   "file_extension": ".py",
   "mimetype": "text/x-python",
   "name": "python",
   "nbconvert_exporter": "python",
   "pygments_lexer": "ipython3",
   "version": "3.11.5"
  }
 },
 "nbformat": 4,
 "nbformat_minor": 2
}
