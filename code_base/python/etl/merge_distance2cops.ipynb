{
 "cells": [
  {
   "cell_type": "code",
   "execution_count": 1,
   "metadata": {},
   "outputs": [],
   "source": [
    "import pandas as pd\n",
    "import os\n",
    "import json\n",
    "import glob\n",
    "from shapely.geometry  import shape, Point\n",
    "from geopy.geocoders import Nominatim\n",
    "from geopy import distance\n",
    "import numpy as np"
   ]
  },
  {
   "cell_type": "code",
   "execution_count": 2,
   "metadata": {},
   "outputs": [],
   "source": [
    "geolocator = Nominatim(user_agent=\"test_tk\")"
   ]
  },
  {
   "cell_type": "code",
   "execution_count": 32,
   "metadata": {},
   "outputs": [],
   "source": [
    "bigdf = pd.read_csv('./results/5_years_merged_with_weather_and_311.csv')"
   ]
  },
  {
   "cell_type": "code",
   "execution_count": 4,
   "metadata": {},
   "outputs": [],
   "source": [
    "POLICE_DF = pd.read_csv('./Police_Stations_20240120.csv')"
   ]
  },
  {
   "cell_type": "code",
   "execution_count": 33,
   "metadata": {},
   "outputs": [],
   "source": [
    "def find_closest(lat,long):\n",
    "    if lat == 0 or long == 0:\n",
    "        return 'No Lat/Long', 999999\n",
    "    else:\n",
    "        try:\n",
    "            input_latlong = (long,lat)\n",
    "            distance_list = []\n",
    "\n",
    "            for index, row in POLICE_DF.iterrows():\n",
    "                distance_holder = {}\n",
    "                station_latlong = [row['LATITUDE'], row['LONGITUDE']]\n",
    "                distance_holder['station'] = row['ADDRESS']\n",
    "                distance_holder['distance'] = distance.distance(input_latlong, station_latlong).miles\n",
    "\n",
    "                distance_list.append(distance_holder)\n",
    "                distance_df = pd.DataFrame(distance_list)\n",
    "                nearest_station = distance_df.iloc[distance_df['distance'].idxmin()]\n",
    "                return nearest_station['station'], nearest_station['distance'] \n",
    "        except:\n",
    "            return 'Error', 999999"
   ]
  },
  {
   "cell_type": "code",
   "execution_count": 34,
   "metadata": {},
   "outputs": [],
   "source": [
    "bigdf[['closest_station', 'closest_station_distance']] = bigdf[bigdf['latitude'].isnull() == False].apply(lambda x: find_closest(x.longitude, x.latitude), axis=1, result_type='expand')"
   ]
  },
  {
   "cell_type": "code",
   "execution_count": 35,
   "metadata": {},
   "outputs": [],
   "source": [
    "bigdf.to_csv('./results/5_years_merged_with_weather_and_311and_policedistance.csv', index=False)"
   ]
  }
 ],
 "metadata": {
  "kernelspec": {
   "display_name": "Python 3",
   "language": "python",
   "name": "python3"
  },
  "language_info": {
   "codemirror_mode": {
    "name": "ipython",
    "version": 3
   },
   "file_extension": ".py",
   "mimetype": "text/x-python",
   "name": "python",
   "nbconvert_exporter": "python",
   "pygments_lexer": "ipython3",
   "version": "3.9.10"
  }
 },
 "nbformat": 4,
 "nbformat_minor": 2
}
