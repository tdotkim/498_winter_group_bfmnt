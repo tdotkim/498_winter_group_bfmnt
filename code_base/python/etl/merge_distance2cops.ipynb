{
 "cells": [
  {
   "cell_type": "code",
   "execution_count": 1,
   "metadata": {},
   "outputs": [],
   "source": [
    "import pandas as pd\n",
    "import os\n",
    "import json\n",
    "import glob\n",
    "from shapely.geometry  import shape, Point\n",
    "from geopy.geocoders import Nominatim\n",
    "from geopy import distance\n",
    "import numpy as np"
   ]
  },
  {
   "cell_type": "code",
   "execution_count": 2,
   "metadata": {},
   "outputs": [],
   "source": [
    "geolocator = Nominatim(user_agent=\"test_tk\")"
   ]
  },
  {
   "cell_type": "code",
   "execution_count": 3,
   "metadata": {},
   "outputs": [],
   "source": [
    "bigdf = pd.read_csv('./results/5_years_merged_with_weather_and_311.csv')"
   ]
  },
  {
   "cell_type": "code",
   "execution_count": 4,
   "metadata": {},
   "outputs": [],
   "source": [
    "POLICE_DF = pd.read_csv('./Police_Stations_20240120.csv')"
   ]
  },
  {
   "cell_type": "code",
   "execution_count": 5,
   "metadata": {},
   "outputs": [
    {
     "data": {
      "text/plain": [
       "0                NaN\n",
       "1                NaN\n",
       "2                NaN\n",
       "3                NaN\n",
       "4          41.818171\n",
       "             ...    \n",
       "1181134    41.821173\n",
       "1181135    41.879292\n",
       "1181136    41.920916\n",
       "1181137    41.885373\n",
       "1181138    41.824614\n",
       "Name: latitude, Length: 1181139, dtype: float64"
      ]
     },
     "execution_count": 5,
     "metadata": {},
     "output_type": "execute_result"
    }
   ],
   "source": [
    "bigdf['latitude']"
   ]
  },
  {
   "cell_type": "code",
   "execution_count": 6,
   "metadata": {},
   "outputs": [],
   "source": [
    "def find_closest(lat,long):\n",
    "    if lat == 0 or long == 0:\n",
    "        return 'No Lat/Long', 999999\n",
    "    else:\n",
    "        try:\n",
    "            input_latlong = (long,lat)\n",
    "            distance_list = []\n",
    "\n",
    "            for index, row in POLICE_DF.iterrows():\n",
    "                distance_holder = {}\n",
    "                station_latlong = [row['LATITUDE'], row['LONGITUDE']]\n",
    "                distance_holder['station'] = row['ADDRESS']\n",
    "                distance_holder['distance'] = distance.distance(input_latlong, station_latlong).miles\n",
    "\n",
    "                distance_list.append(distance_holder)\n",
    "                distance_df = pd.DataFrame(distance_list)\n",
    "                nearest_station = distance_df.iloc[distance_df['distance'].idxmin()]\n",
    "                return nearest_station['station'], nearest_station['distance'] \n",
    "        except:\n",
    "            return 'Error', 999999"
   ]
  },
  {
   "cell_type": "code",
   "execution_count": 16,
   "metadata": {},
   "outputs": [
    {
     "data": {
      "text/plain": [
       "41.887904127"
      ]
     },
     "execution_count": 16,
     "metadata": {},
     "output_type": "execute_result"
    }
   ],
   "source": [
    "longitude\n",
    "\n",
    "latitude"
   ]
  },
  {
   "cell_type": "code",
   "execution_count": 20,
   "metadata": {},
   "outputs": [],
   "source": [
    "closest, closestd = find_closest(bigdf.iloc[300]['longitude'], bigdf.iloc[300]['latitude'])"
   ]
  },
  {
   "cell_type": "code",
   "execution_count": 23,
   "metadata": {},
   "outputs": [],
   "source": [
    "bigdf[['closest_station', 'closest_station_distance']] = bigdf[bigdf['latitude'].isnull() == False].apply(lambda x: find_closest(x.longitude, x.latitude), axis=1, result_type='expand')"
   ]
  },
  {
   "cell_type": "code",
   "execution_count": 25,
   "metadata": {},
   "outputs": [],
   "source": [
    "bigdf.to_csv('./results/5_years_merged_with_weather_and_311and_policedistance.csv', index=False)"
   ]
  }
 ],
 "metadata": {
  "kernelspec": {
   "display_name": "Python 3",
   "language": "python",
   "name": "python3"
  },
  "language_info": {
   "codemirror_mode": {
    "name": "ipython",
    "version": 3
   },
   "file_extension": ".py",
   "mimetype": "text/x-python",
   "name": "python",
   "nbconvert_exporter": "python",
   "pygments_lexer": "ipython3",
   "version": "3.9.10"
  }
 },
 "nbformat": 4,
 "nbformat_minor": 2
}
