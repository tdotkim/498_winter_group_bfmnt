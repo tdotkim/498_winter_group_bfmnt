{
 "cells": [
  {
   "cell_type": "code",
   "execution_count": 2,
   "metadata": {},
   "outputs": [],
   "source": [
    "import pandas as pd\n",
    "from shapely.geometry  import shape, Point\n",
    "from geopy.geocoders import Nominatim\n",
    "import json"
   ]
  },
  {
   "cell_type": "code",
   "execution_count": 4,
   "metadata": {},
   "outputs": [],
   "source": [
    "with open('../../geojsons/Boundaries - Community Areas (current).geojson') as f:\n",
    "    commarea = json.load(f)"
   ]
  },
  {
   "cell_type": "code",
   "execution_count": 5,
   "metadata": {},
   "outputs": [],
   "source": [
    "geolocator = Nominatim(user_agent=\"test_tk\")"
   ]
  },
  {
   "cell_type": "code",
   "execution_count": 6,
   "metadata": {},
   "outputs": [],
   "source": [
    "def getpoint(address):\n",
    "    loc = geolocator.geocode(address)\n",
    "    latlong = [loc.latitude, loc.longitude]\n",
    "    point = Point(latlong[1], latlong[0])   \n",
    "    return point"
   ]
  },
  {
   "cell_type": "code",
   "execution_count": 7,
   "metadata": {},
   "outputs": [],
   "source": [
    "def findarea(point):    \n",
    "    for feature in commarea['features']:\n",
    "        polygon = shape(feature['geometry'])\n",
    "        if polygon.contains(point):\n",
    "           return feature['properties']['area_numbe']\n",
    "        else:\n",
    "            continue\n",
    "        "
   ]
  },
  {
   "cell_type": "code",
   "execution_count": 8,
   "metadata": {},
   "outputs": [],
   "source": [
    "def get_commarea(dataframe):\n",
    "    dataframe['community_area']=''\n",
    "    i=0\n",
    "    for row in dataframe.index:\n",
    "        point = Point(dataframe['location.coordinates'][row][0],dataframe['location.coordinates'][row][1])\n",
    "        for feature in commarea['features']:\n",
    "            polygon = shape(feature['geometry'])\n",
    "            if polygon.contains(point):\n",
    "                dataframe['community_area'][row] = feature['properties']['area_numbe']\n",
    "    return dataframe\n"
   ]
  },
  {
   "cell_type": "code",
   "execution_count": 9,
   "metadata": {},
   "outputs": [],
   "source": [
    "warming_df = pd.read_csv('../../Warming_Centers_20240116.csv')\n",
    "cooling_df = pd.read_csv('../../Cooling_Centers_20240116.csv')"
   ]
  },
  {
   "cell_type": "code",
   "execution_count": 10,
   "metadata": {},
   "outputs": [
    {
     "data": {
      "text/html": [
       "<div>\n",
       "<style scoped>\n",
       "    .dataframe tbody tr th:only-of-type {\n",
       "        vertical-align: middle;\n",
       "    }\n",
       "\n",
       "    .dataframe tbody tr th {\n",
       "        vertical-align: top;\n",
       "    }\n",
       "\n",
       "    .dataframe thead th {\n",
       "        text-align: right;\n",
       "    }\n",
       "</style>\n",
       "<table border=\"1\" class=\"dataframe\">\n",
       "  <thead>\n",
       "    <tr style=\"text-align: right;\">\n",
       "      <th></th>\n",
       "      <th>SITE TYPE</th>\n",
       "      <th>SITE NAME</th>\n",
       "      <th>HOURS OF OPERATION</th>\n",
       "      <th>ADDRESS</th>\n",
       "      <th>CITY</th>\n",
       "      <th>STATE</th>\n",
       "      <th>ZIP</th>\n",
       "      <th>PHONE</th>\n",
       "      <th>LOCATION</th>\n",
       "    </tr>\n",
       "  </thead>\n",
       "  <tbody>\n",
       "    <tr>\n",
       "      <th>0</th>\n",
       "      <td>Library</td>\n",
       "      <td>Jefferson Park</td>\n",
       "      <td>M and W 10-6; T and Th 12-8; Fri and Sat 9-5; ...</td>\n",
       "      <td>5363 W. Lawrence Ave.</td>\n",
       "      <td>Chicago</td>\n",
       "      <td>IL</td>\n",
       "      <td>60630.0</td>\n",
       "      <td>(312) 744-1998</td>\n",
       "      <td>POINT (-87.761986967 41.967361989)</td>\n",
       "    </tr>\n",
       "    <tr>\n",
       "      <th>1</th>\n",
       "      <td>Parks</td>\n",
       "      <td>Taylor Park</td>\n",
       "      <td>M-F 10am-7pm; Sat 10am-2pm; Sun 10am-2pm</td>\n",
       "      <td>47 W. Federal</td>\n",
       "      <td>Chicago</td>\n",
       "      <td>IL</td>\n",
       "      <td>NaN</td>\n",
       "      <td>NaN</td>\n",
       "      <td>POINT (-87.629019975 41.827179981)</td>\n",
       "    </tr>\n",
       "    <tr>\n",
       "      <th>2</th>\n",
       "      <td>Library</td>\n",
       "      <td>Uptown</td>\n",
       "      <td>M and W 10-6; T and Th 12-8; Fri and Sat 9-5; ...</td>\n",
       "      <td>929 W. Buena Ave.</td>\n",
       "      <td>Chicago</td>\n",
       "      <td>IL</td>\n",
       "      <td>60613.0</td>\n",
       "      <td>(312) 744-8400</td>\n",
       "      <td>POINT (-87.654211031 41.958200988)</td>\n",
       "    </tr>\n",
       "    <tr>\n",
       "      <th>3</th>\n",
       "      <td>Chicago Community College</td>\n",
       "      <td>Daley College</td>\n",
       "      <td>M-F 7am - 8:30 pm; SA-SU CLOSED</td>\n",
       "      <td>7500 S. Pulaski</td>\n",
       "      <td>Chicago</td>\n",
       "      <td>IL</td>\n",
       "      <td>60652.0</td>\n",
       "      <td>773-838-7500</td>\n",
       "      <td>POINT (-87.72377202599995 41.75745600000005)</td>\n",
       "    </tr>\n",
       "    <tr>\n",
       "      <th>4</th>\n",
       "      <td>Library</td>\n",
       "      <td>North Pulaski</td>\n",
       "      <td>M and W 10-6; T and Th 12-8; Fri and Sat 9-5; ...</td>\n",
       "      <td>4300 W. North Ave.</td>\n",
       "      <td>Chicago</td>\n",
       "      <td>IL</td>\n",
       "      <td>60639.0</td>\n",
       "      <td>(312) 744-9573</td>\n",
       "      <td>POINT (-87.733982023 41.910143011)</td>\n",
       "    </tr>\n",
       "  </tbody>\n",
       "</table>\n",
       "</div>"
      ],
      "text/plain": [
       "                   SITE TYPE       SITE NAME  \\\n",
       "0                    Library  Jefferson Park   \n",
       "1                      Parks     Taylor Park   \n",
       "2                    Library          Uptown   \n",
       "3  Chicago Community College   Daley College   \n",
       "4                    Library   North Pulaski   \n",
       "\n",
       "                                  HOURS OF OPERATION                ADDRESS  \\\n",
       "0  M and W 10-6; T and Th 12-8; Fri and Sat 9-5; ...  5363 W. Lawrence Ave.   \n",
       "1           M-F 10am-7pm; Sat 10am-2pm; Sun 10am-2pm          47 W. Federal   \n",
       "2  M and W 10-6; T and Th 12-8; Fri and Sat 9-5; ...      929 W. Buena Ave.   \n",
       "3                    M-F 7am - 8:30 pm; SA-SU CLOSED        7500 S. Pulaski   \n",
       "4  M and W 10-6; T and Th 12-8; Fri and Sat 9-5; ...     4300 W. North Ave.   \n",
       "\n",
       "      CITY STATE      ZIP           PHONE  \\\n",
       "0  Chicago    IL  60630.0  (312) 744-1998   \n",
       "1  Chicago    IL      NaN             NaN   \n",
       "2  Chicago    IL  60613.0  (312) 744-8400   \n",
       "3  Chicago    IL  60652.0    773-838-7500   \n",
       "4  Chicago    IL  60639.0  (312) 744-9573   \n",
       "\n",
       "                                       LOCATION  \n",
       "0            POINT (-87.761986967 41.967361989)  \n",
       "1            POINT (-87.629019975 41.827179981)  \n",
       "2            POINT (-87.654211031 41.958200988)  \n",
       "3  POINT (-87.72377202599995 41.75745600000005)  \n",
       "4            POINT (-87.733982023 41.910143011)  "
      ]
     },
     "execution_count": 10,
     "metadata": {},
     "output_type": "execute_result"
    }
   ],
   "source": [
    "warming_df.head()"
   ]
  },
  {
   "cell_type": "code",
   "execution_count": null,
   "metadata": {},
   "outputs": [],
   "source": [
    "warming_df = get_commarea(warming_df)"
   ]
  }
 ],
 "metadata": {
  "kernelspec": {
   "display_name": "Python 3",
   "language": "python",
   "name": "python3"
  },
  "language_info": {
   "codemirror_mode": {
    "name": "ipython",
    "version": 3
   },
   "file_extension": ".py",
   "mimetype": "text/x-python",
   "name": "python",
   "nbconvert_exporter": "python",
   "pygments_lexer": "ipython3",
   "version": "3.11.5"
  }
 },
 "nbformat": 4,
 "nbformat_minor": 2
}
