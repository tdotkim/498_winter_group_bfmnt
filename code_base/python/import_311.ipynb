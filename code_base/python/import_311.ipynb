{
 "cells": [
  {
   "cell_type": "code",
   "execution_count": 1,
   "metadata": {},
   "outputs": [],
   "source": [
    "#imports\n",
    "import requests\n",
    "import pandas as pd\n",
    "import os\n",
    "from datetime import datetime"
   ]
  },
  {
   "cell_type": "markdown",
   "metadata": {},
   "source": [
    "## config\n"
   ]
  },
  {
   "cell_type": "code",
   "execution_count": 2,
   "metadata": {},
   "outputs": [],
   "source": [
    "# set your data folder\n",
    "desti_folder = './graffiti'\n",
    "\n",
    "# give your socrata token\n",
    "token = 'YOURTOKENHERE'\n"
   ]
  },
  {
   "cell_type": "code",
   "execution_count": 3,
   "metadata": {},
   "outputs": [],
   "source": [
    "start_date = '2019-01-01'\n",
    "end_date = '2023-12-31'"
   ]
  },
  {
   "cell_type": "code",
   "execution_count": 4,
   "metadata": {},
   "outputs": [],
   "source": [
    "os.makedirs(desti_folder, exist_ok=True )"
   ]
  },
  {
   "cell_type": "code",
   "execution_count": 5,
   "metadata": {},
   "outputs": [],
   "source": [
    "timestamp = datetime.now()\n",
    "timestamp = timestamp.strftime(\"%Y-%m-%d-%H-%M-%S\")"
   ]
  },
  {
   "cell_type": "code",
   "execution_count": 11,
   "metadata": {},
   "outputs": [],
   "source": [
    "def get_data(name, db, maxrows, parameters):\n",
    "    # some key info\n",
    "    db_id = db\n",
    "    limit = maxrows\n",
    "    i = 0\n",
    "    offset_counter = 0\n",
    "    pickle = True\n",
    "    data_name = name\n",
    "    # dict for logging\n",
    "    log_dict = {}\n",
    "\n",
    "    # base url for the request\n",
    "    baseurl = (\"https://data.cityofchicago.org/resource/\"\n",
    "            f\"{db_id}.json?\")\n",
    "\n",
    "    while pickle:\n",
    "        #set our params\n",
    "        # note that you have to URL econde \n",
    "        params = parameters + (\n",
    "            f\"&$limit={limit}\"\n",
    "            f\"&$offset={offset_counter}\"\n",
    "        )\n",
    "        \n",
    "        # make the request \n",
    "        data_req = requests.get(baseurl+params)\n",
    "        #print(data_req)\n",
    "        # convert to json\n",
    "        data_json = data_req.json()\n",
    "\n",
    "        # make it a df\n",
    "        df = pd.json_normalize(data_json)\n",
    "\n",
    "        # write df\n",
    "        \n",
    "        \n",
    "        # log\n",
    "        minilog = {}\n",
    "        minilog['records'] = df.shape[0]\n",
    "        minilog['chunk'] = i\n",
    "        minilog['status'] = data_req.status_code\n",
    "        minilog['offset'] = offset_counter\n",
    "        log_dict[f'run_{i}'] = minilog\n",
    "        log_df = pd.DataFrame.from_dict(log_dict,orient='index')\n",
    "        \n",
    "        if df.shape[0] == 0:\n",
    "            break\n",
    "        else:\n",
    "            df.to_json(f'{desti_folder}/{data_name}_chunk_{i}.json',orient='records', lines=True)\n",
    "            log_df.to_csv(f'{desti_folder}/{data_name}_{timestamp}_log.csv')\n",
    "\n",
    "        # increment the chunk count\n",
    "        print(i)\n",
    "        i += 1\n",
    "\n",
    "        # increment the offset\n",
    "        offset_counter += limit\n",
    "\n",
    "        # check if we need to end the loop\n",
    "        if df.shape[0] == 0:\n",
    "            pickle = False\n",
    "        elif data_req.status_code == 200:\n",
    "            pickle = True\n",
    "        else: \n",
    "            pickle = False\n",
    "            print(data_req.status_code)\n",
    "\n"
   ]
  },
  {
   "cell_type": "code",
   "execution_count": 22,
   "metadata": {},
   "outputs": [
    {
     "name": "stdout",
     "output_type": "stream",
     "text": [
      "<Response [200]>\n",
      "0\n",
      "<Response [200]>\n",
      "1\n",
      "<Response [200]>\n",
      "2\n",
      "<Response [200]>\n",
      "3\n",
      "<Response [200]>\n",
      "4\n",
      "<Response [200]>\n",
      "5\n",
      "<Response [200]>\n",
      "6\n",
      "<Response [200]>\n",
      "7\n",
      "<Response [200]>\n",
      "8\n",
      "<Response [200]>\n",
      "9\n",
      "<Response [200]>\n",
      "10\n",
      "<Response [200]>\n",
      "11\n",
      "<Response [200]>\n"
     ]
    }
   ],
   "source": [
    "graffiti_params = (\n",
    "            f\"$where=(created_date%20BETWEEN%20%27{start_date}T00%3A00%3A00.000%27%20AND%20%27{end_date}T23%3A59%3A59.000%27)%20AND%20sr_short_code%20not%20in%20(%27311IOC%27)\"w\n",
    "            f\"&$order=created_date\"\n",
    "            )\n",
    "\n",
    "get_data('graffiti5', 'v6vf-nfxy', 500000, parameters=graffiti_params)\n",
    "\n"
   ]
  }
 ],
 "metadata": {
  "kernelspec": {
   "display_name": "base",
   "language": "python",
   "name": "python3"
  },
  "language_info": {
   "codemirror_mode": {
    "name": "ipython",
    "version": 3
   },
   "file_extension": ".py",
   "mimetype": "text/x-python",
   "name": "python",
   "nbconvert_exporter": "python",
   "pygments_lexer": "ipython3",
   "version": "3.9.10"
  },
  "orig_nbformat": 4
 },
 "nbformat": 4,
 "nbformat_minor": 2
}
