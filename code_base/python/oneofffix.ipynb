{
 "cells": [
  {
   "cell_type": "code",
   "execution_count": 2,
   "metadata": {},
   "outputs": [],
   "source": [
    "#imports\n",
    "import requests\n",
    "import pandas as pd\n",
    "import os\n",
    "import datetime as dt\n",
    "from google.cloud import bigquery\n",
    "from google.cloud import storage\n",
    "from shapely.geometry  import shape, Point\n",
    "from geopy.geocoders import Nominatim\n",
    "import numpy as np\n",
    "import meteostat as ms\n",
    "import io\n",
    "import json\n",
    "from geopy import distance\n",
    "import glob"
   ]
  },
  {
   "cell_type": "code",
   "execution_count": 3,
   "metadata": {},
   "outputs": [],
   "source": [
    "CREDS = \"C:/Users/tkkim/gcp_keys/capstone-team51-366963bafc54.json\"\n",
    "storage_client = storage.Client.from_service_account_json(json_credentials_path=CREDS,project='capstone-team51')\n",
    "bq_client = bigquery.Client.from_service_account_json(json_credentials_path=CREDS,project='capstone-team51')\n",
    "#client = bigquery.Client(project='capstone-team51')\n"
   ]
  },
  {
   "cell_type": "code",
   "execution_count": 4,
   "metadata": {},
   "outputs": [],
   "source": [
    "bucket = storage_client.get_bucket('capstone-team51-data')"
   ]
  },
  {
   "cell_type": "code",
   "execution_count": 5,
   "metadata": {},
   "outputs": [],
   "source": [
    "def load_df_gcs(prefix, filename):\n",
    "    df = pd.DataFrame()\n",
    "    for blob in storage_client.list_blobs('capstone-team51-data', prefix=prefix, delimiter='/'):\n",
    "        #print(blob.name)\n",
    "        if filename in blob.name:\n",
    "            #print(blob.name)\n",
    "            data = blob.download_as_bytes()\n",
    "            smalldf = pd.read_csv(io.BytesIO(data))\n",
    "            #print(smalldf)\n",
    "            df = pd.concat([df, smalldf])\n",
    "    return df"
   ]
  },
  {
   "cell_type": "code",
   "execution_count": 6,
   "metadata": {},
   "outputs": [],
   "source": [
    "base_df = load_df_gcs('raw_crimes/', 'chunk')\n",
    "three11_df = load_df_gcs('raw_311/', 'chunk')\n",
    "env_df = load_df_gcs('raw_environmental/', 'chunk')\n",
    "weather_df = load_df_gcs('raw_weather/', 'data')\n",
    "offenders_df = load_df_gcs('supporting/off_commarea/', 'csv')"
   ]
  },
  {
   "cell_type": "code",
   "execution_count": 7,
   "metadata": {},
   "outputs": [],
   "source": [
    "commarea = json.loads(bucket.blob('supporting/geojsons/Boundaries - Community Areas (current).geojson').download_as_string())\n",
    "stations_df = load_df_gcs('supporting/', 'Police_Stations_20240120.csv')"
   ]
  },
  {
   "cell_type": "code",
   "execution_count": 8,
   "metadata": {},
   "outputs": [],
   "source": [
    "def find_closest(lat, long):\n",
    "    if lat == 0 or long == 0:\n",
    "        return 'No Lat/Long', 999999\n",
    "    else:\n",
    "        try:\n",
    "            input_latlong = (long,lat)\n",
    "            #distance_list = []\n",
    "            pdf = stations_df.copy()\n",
    "            pdf['distance'] = pdf.apply(lambda x: distance.distance(input_latlong, (x.LONGITUDE,x.LATITUDE)).miles, axis=1)\n",
    "            nearest_station = pdf.iloc[pdf['distance'].idxmin()]\n",
    "            #print(nearest_station)\n",
    "            return nearest_station['ADDRESS'], nearest_station['distance']\n",
    "            \"\"\"for row in POLICE_DF.iterrows():\n",
    "                distance_holder = {}\n",
    "                station_latlong = [row['LATITUDE'], row['LONGITUDE']]\n",
    "                distance_holder['station'] = row['ADDRESS']\n",
    "                distance_holder['distance'] = distance.distance(input_latlong, station_latlong).miles\n",
    "\n",
    "                distance_list.append(distance_holder)\n",
    "                distance_df = pd.DataFrame(distance_list)\n",
    "                nearest_station = distance_df.iloc[distance_df['distance'].idxmin()]\n",
    "                print(f\"{distance_df.head()}\")\n",
    "                return nearest_station['station'], nearest_station['distance'] \"\"\"\n",
    "        except Exception as e:\n",
    "            #print(e)\n",
    "            return 'Error something something', 999999"
   ]
  },
  {
   "cell_type": "code",
   "execution_count": 9,
   "metadata": {},
   "outputs": [],
   "source": [
    "def get_commarea_env(df_, commarea):\n",
    "    dataframe = df_.copy()\n",
    "    dataframe['community_area']=''\n",
    "    for row in dataframe.index:\n",
    "        point = Point(dataframe.loc[row,'longitude'],dataframe.loc[row,'latitude'])\n",
    "        #print(point.xy)\n",
    "        for feature in commarea['features']:\n",
    "            polygon = shape(feature['geometry'])\n",
    "            if polygon.contains(point):\n",
    "                dataframe.loc[row, 'community_area'] = feature['properties']['area_numbe']\n",
    "                \n",
    "    return dataframe"
   ]
  },
  {
   "cell_type": "code",
   "execution_count": 16,
   "metadata": {},
   "outputs": [],
   "source": [
    "data_path = './data/archive/'\n",
    "cur_dir = os.getcwd()\n",
    "os.chdir(data_path)\n",
    "files = glob.glob(\"*.json\")\n",
    "os.chdir(cur_dir)"
   ]
  },
  {
   "cell_type": "code",
   "execution_count": 17,
   "metadata": {},
   "outputs": [
    {
     "name": "stdout",
     "output_type": "stream",
     "text": [
      "error on crime_chunk_0.json\n",
      "error on envcomplaint_chunk_0.json\n"
     ]
    }
   ],
   "source": [
    "crimes_dict = {}\n",
    "offenders_dict = {}\n",
    "env_dict = {}\n",
    "crimes_i = 0\n",
    "env_i = 0\n",
    "offenders_i = 0\n",
    "\n",
    "for file in files:\n",
    "    name = file.split(sep=\"_\")[0]\n",
    "    if name == 'crime5':\n",
    "        crimes_dict[name+f'_{crimes_i}'] = pd.read_json((data_path+file), lines=True)\n",
    "        crimes_i += 1\n",
    "    elif name == 'offenders':\n",
    "        continue\n",
    "    elif name == 'envcomplaint5':\n",
    "        env_dict[name+f'_{env_i}'] = pd.read_json((data_path+file), lines=True)\n",
    "        env_i += 1\n",
    "    else:\n",
    "        print(f'error on {file}')\n",
    "\n",
    "def merge_df(dictionary):\n",
    "    merged_df = pd.DataFrame()\n",
    "    for datfram in dictionary:\n",
    "        merged_df= pd.concat([merged_df,dictionary[datfram]],axis=0)\n",
    "        print(merged_df.shape[0])\n",
    "    return merged_df"
   ]
  },
  {
   "cell_type": "code",
   "execution_count": 18,
   "metadata": {},
   "outputs": [
    {
     "name": "stdout",
     "output_type": "stream",
     "text": [
      "500000\n",
      "1000000\n",
      "1181139\n",
      "9410\n"
     ]
    }
   ],
   "source": [
    "merged_crimes = merge_df(crimes_dict)\n",
    "merged_envcomplaints = merge_df(env_dict)"
   ]
  },
  {
   "cell_type": "code",
   "execution_count": 25,
   "metadata": {},
   "outputs": [
    {
     "name": "stderr",
     "output_type": "stream",
     "text": [
      "UserWarning: Latitude normalization has been prohibited in the newer versions of geopy, because the normalized value happened to be on a different pole, which is probably not what was meant. If you pass coordinates as positional args, please make sure that the order is (latitude, longitude) or (y, x) in Cartesian terms.\n",
      "UserWarning: Latitude normalization has been prohibited in the newer versions of geopy, because the normalized value happened to be on a different pole, which is probably not what was meant. If you pass coordinates as positional args, please make sure that the order is (latitude, longitude) or (y, x) in Cartesian terms.\n",
      "UserWarning: Latitude normalization has been prohibited in the newer versions of geopy, because the normalized value happened to be on a different pole, which is probably not what was meant. If you pass coordinates as positional args, please make sure that the order is (latitude, longitude) or (y, x) in Cartesian terms.\n",
      "UserWarning: Latitude normalization has been prohibited in the newer versions of geopy, because the normalized value happened to be on a different pole, which is probably not what was meant. If you pass coordinates as positional args, please make sure that the order is (latitude, longitude) or (y, x) in Cartesian terms.\n"
     ]
    }
   ],
   "source": [
    "merged_crimes[['closest_station', 'closest_station_distance']] = merged_crimes.apply(lambda x: find_closest(x.latitude, x.longitude), axis=1, result_type='expand')"
   ]
  },
  {
   "cell_type": "code",
   "execution_count": 26,
   "metadata": {},
   "outputs": [],
   "source": [
    "# merge offenders in\n",
    "big_df = merged_crimes.merge(offenders_df, how='left', on='community_area')\n",
    "big_df['date'] = pd.to_datetime(big_df['date']).dt.date\n",
    "big_df['community_area'] = big_df['community_area'].fillna(9999).astype('int64')"
   ]
  },
  {
   "cell_type": "code",
   "execution_count": 28,
   "metadata": {},
   "outputs": [],
   "source": [
    "oldweather = pd.read_csv('./weather_data/weather_daily_data.csv')"
   ]
  },
  {
   "cell_type": "code",
   "execution_count": 29,
   "metadata": {},
   "outputs": [],
   "source": [
    "merged_weather = pd.concat([oldweather, weather_df], axis=0)"
   ]
  },
  {
   "cell_type": "code",
   "execution_count": 36,
   "metadata": {},
   "outputs": [
    {
     "data": {
      "text/plain": [
       "(1181139, 26)"
      ]
     },
     "execution_count": 36,
     "metadata": {},
     "output_type": "execute_result"
    }
   ],
   "source": [
    "merged_crimes.shape"
   ]
  },
  {
   "cell_type": "code",
   "execution_count": 37,
   "metadata": {},
   "outputs": [
    {
     "data": {
      "text/plain": [
       "(1181139, 40)"
      ]
     },
     "execution_count": 37,
     "metadata": {},
     "output_type": "execute_result"
    }
   ],
   "source": [
    "new_df.shape"
   ]
  },
  {
   "cell_type": "code",
   "execution_count": 33,
   "metadata": {},
   "outputs": [],
   "source": [
    "# merge weather in\n",
    "merged_weather.rename(columns={'time':'date'}, inplace=True)\n",
    "merged_weather['date'] = pd.to_datetime(merged_weather['date']).dt.date\n",
    "big_df['date'] = pd.to_datetime(big_df['date']).dt.date\n",
    "new_df = big_df.merge(merged_weather, how='left', on='date')"
   ]
  },
  {
   "cell_type": "code",
   "execution_count": 49,
   "metadata": {},
   "outputs": [],
   "source": [
    "merged_weather.to_csv('./compiled_weather_daily.csv', index=False)"
   ]
  },
  {
   "cell_type": "code",
   "execution_count": 34,
   "metadata": {},
   "outputs": [
    {
     "data": {
      "text/html": [
       "<div>\n",
       "<style scoped>\n",
       "    .dataframe tbody tr th:only-of-type {\n",
       "        vertical-align: middle;\n",
       "    }\n",
       "\n",
       "    .dataframe tbody tr th {\n",
       "        vertical-align: top;\n",
       "    }\n",
       "\n",
       "    .dataframe thead th {\n",
       "        text-align: right;\n",
       "    }\n",
       "</style>\n",
       "<table border=\"1\" class=\"dataframe\">\n",
       "  <thead>\n",
       "    <tr style=\"text-align: right;\">\n",
       "      <th></th>\n",
       "      <th>id</th>\n",
       "      <th>case_number</th>\n",
       "      <th>date</th>\n",
       "      <th>block</th>\n",
       "      <th>iucr</th>\n",
       "      <th>primary_type</th>\n",
       "      <th>description</th>\n",
       "      <th>location_description</th>\n",
       "      <th>arrest</th>\n",
       "      <th>domestic</th>\n",
       "      <th>...</th>\n",
       "      <th>prcp</th>\n",
       "      <th>snow</th>\n",
       "      <th>wdir</th>\n",
       "      <th>wspd</th>\n",
       "      <th>wpgt</th>\n",
       "      <th>pres</th>\n",
       "      <th>tsun</th>\n",
       "      <th>tempmax_f</th>\n",
       "      <th>tempmin_f</th>\n",
       "      <th>tempavg_f</th>\n",
       "    </tr>\n",
       "  </thead>\n",
       "  <tbody>\n",
       "    <tr>\n",
       "      <th>0</th>\n",
       "      <td>13211437</td>\n",
       "      <td>JG425074</td>\n",
       "      <td>2019-01-01</td>\n",
       "      <td>009XX N HAMLIN AVE</td>\n",
       "      <td>1562</td>\n",
       "      <td>SEX OFFENSE</td>\n",
       "      <td>AGGRAVATED CRIMINAL SEXUAL ABUSE</td>\n",
       "      <td>RESIDENCE</td>\n",
       "      <td>False</td>\n",
       "      <td>False</td>\n",
       "      <td>...</td>\n",
       "      <td>0.0</td>\n",
       "      <td>0.0</td>\n",
       "      <td>342.0</td>\n",
       "      <td>14.2</td>\n",
       "      <td>NaN</td>\n",
       "      <td>1024.1</td>\n",
       "      <td>NaN</td>\n",
       "      <td>35.96</td>\n",
       "      <td>26.96</td>\n",
       "      <td>30.74</td>\n",
       "    </tr>\n",
       "    <tr>\n",
       "      <th>1</th>\n",
       "      <td>11895528</td>\n",
       "      <td>JC515003</td>\n",
       "      <td>2019-01-01</td>\n",
       "      <td>059XX W LELAND AVE</td>\n",
       "      <td>1153</td>\n",
       "      <td>DECEPTIVE PRACTICE</td>\n",
       "      <td>FINANCIAL IDENTITY THEFT OVER $ 300</td>\n",
       "      <td>None</td>\n",
       "      <td>False</td>\n",
       "      <td>False</td>\n",
       "      <td>...</td>\n",
       "      <td>0.0</td>\n",
       "      <td>0.0</td>\n",
       "      <td>342.0</td>\n",
       "      <td>14.2</td>\n",
       "      <td>NaN</td>\n",
       "      <td>1024.1</td>\n",
       "      <td>NaN</td>\n",
       "      <td>35.96</td>\n",
       "      <td>26.96</td>\n",
       "      <td>30.74</td>\n",
       "    </tr>\n",
       "    <tr>\n",
       "      <th>2</th>\n",
       "      <td>12325061</td>\n",
       "      <td>JE180772</td>\n",
       "      <td>2019-01-01</td>\n",
       "      <td>045XX S CHAMPLAIN AVE</td>\n",
       "      <td>0265</td>\n",
       "      <td>CRIMINAL SEXUAL ASSAULT</td>\n",
       "      <td>AGGRAVATED - OTHER</td>\n",
       "      <td>RESIDENCE</td>\n",
       "      <td>False</td>\n",
       "      <td>False</td>\n",
       "      <td>...</td>\n",
       "      <td>0.0</td>\n",
       "      <td>0.0</td>\n",
       "      <td>342.0</td>\n",
       "      <td>14.2</td>\n",
       "      <td>NaN</td>\n",
       "      <td>1024.1</td>\n",
       "      <td>NaN</td>\n",
       "      <td>35.96</td>\n",
       "      <td>26.96</td>\n",
       "      <td>30.74</td>\n",
       "    </tr>\n",
       "    <tr>\n",
       "      <th>3</th>\n",
       "      <td>12298601</td>\n",
       "      <td>JE148751</td>\n",
       "      <td>2019-01-01</td>\n",
       "      <td>057XX S WOLCOTT AVE</td>\n",
       "      <td>1153</td>\n",
       "      <td>DECEPTIVE PRACTICE</td>\n",
       "      <td>FINANCIAL IDENTITY THEFT OVER $ 300</td>\n",
       "      <td>RESIDENCE</td>\n",
       "      <td>False</td>\n",
       "      <td>False</td>\n",
       "      <td>...</td>\n",
       "      <td>0.0</td>\n",
       "      <td>0.0</td>\n",
       "      <td>342.0</td>\n",
       "      <td>14.2</td>\n",
       "      <td>NaN</td>\n",
       "      <td>1024.1</td>\n",
       "      <td>NaN</td>\n",
       "      <td>35.96</td>\n",
       "      <td>26.96</td>\n",
       "      <td>30.74</td>\n",
       "    </tr>\n",
       "    <tr>\n",
       "      <th>4</th>\n",
       "      <td>12312332</td>\n",
       "      <td>JE165297</td>\n",
       "      <td>2019-01-01</td>\n",
       "      <td>009XX W 76TH ST</td>\n",
       "      <td>0266</td>\n",
       "      <td>CRIMINAL SEXUAL ASSAULT</td>\n",
       "      <td>PREDATORY</td>\n",
       "      <td>RESIDENCE</td>\n",
       "      <td>False</td>\n",
       "      <td>False</td>\n",
       "      <td>...</td>\n",
       "      <td>0.0</td>\n",
       "      <td>0.0</td>\n",
       "      <td>342.0</td>\n",
       "      <td>14.2</td>\n",
       "      <td>NaN</td>\n",
       "      <td>1024.1</td>\n",
       "      <td>NaN</td>\n",
       "      <td>35.96</td>\n",
       "      <td>26.96</td>\n",
       "      <td>30.74</td>\n",
       "    </tr>\n",
       "  </tbody>\n",
       "</table>\n",
       "<p>5 rows × 40 columns</p>\n",
       "</div>"
      ],
      "text/plain": [
       "         id case_number        date                  block  iucr  \\\n",
       "0  13211437    JG425074  2019-01-01     009XX N HAMLIN AVE  1562   \n",
       "1  11895528    JC515003  2019-01-01     059XX W LELAND AVE  1153   \n",
       "2  12325061    JE180772  2019-01-01  045XX S CHAMPLAIN AVE  0265   \n",
       "3  12298601    JE148751  2019-01-01    057XX S WOLCOTT AVE  1153   \n",
       "4  12312332    JE165297  2019-01-01        009XX W 76TH ST  0266   \n",
       "\n",
       "              primary_type                          description  \\\n",
       "0              SEX OFFENSE     AGGRAVATED CRIMINAL SEXUAL ABUSE   \n",
       "1       DECEPTIVE PRACTICE  FINANCIAL IDENTITY THEFT OVER $ 300   \n",
       "2  CRIMINAL SEXUAL ASSAULT                   AGGRAVATED - OTHER   \n",
       "3       DECEPTIVE PRACTICE  FINANCIAL IDENTITY THEFT OVER $ 300   \n",
       "4  CRIMINAL SEXUAL ASSAULT                            PREDATORY   \n",
       "\n",
       "  location_description  arrest  domestic  ...  prcp  snow   wdir  wspd wpgt  \\\n",
       "0            RESIDENCE   False     False  ...   0.0   0.0  342.0  14.2  NaN   \n",
       "1                 None   False     False  ...   0.0   0.0  342.0  14.2  NaN   \n",
       "2            RESIDENCE   False     False  ...   0.0   0.0  342.0  14.2  NaN   \n",
       "3            RESIDENCE   False     False  ...   0.0   0.0  342.0  14.2  NaN   \n",
       "4            RESIDENCE   False     False  ...   0.0   0.0  342.0  14.2  NaN   \n",
       "\n",
       "     pres tsun  tempmax_f  tempmin_f  tempavg_f  \n",
       "0  1024.1  NaN      35.96      26.96      30.74  \n",
       "1  1024.1  NaN      35.96      26.96      30.74  \n",
       "2  1024.1  NaN      35.96      26.96      30.74  \n",
       "3  1024.1  NaN      35.96      26.96      30.74  \n",
       "4  1024.1  NaN      35.96      26.96      30.74  \n",
       "\n",
       "[5 rows x 40 columns]"
      ]
     },
     "execution_count": 34,
     "metadata": {},
     "output_type": "execute_result"
    }
   ],
   "source": [
    "new_df.head()"
   ]
  },
  {
   "cell_type": "code",
   "execution_count": 35,
   "metadata": {},
   "outputs": [],
   "source": [
    "new_df.to_csv('oneoff_crimeoffendersweather.csv', index=False)"
   ]
  },
  {
   "cell_type": "code",
   "execution_count": 23,
   "metadata": {},
   "outputs": [
    {
     "data": {
      "text/plain": [
       "'c:\\\\Users\\\\tkkim\\\\Desktop\\\\498_winter_group_bfmnt\\\\code_base\\\\python'"
      ]
     },
     "execution_count": 23,
     "metadata": {},
     "output_type": "execute_result"
    }
   ],
   "source": [
    "merged_crimes"
   ]
  },
  {
   "cell_type": "code",
   "execution_count": null,
   "metadata": {},
   "outputs": [],
   "source": [
    "get_commarea_env(merged_envcomplaints, commarea)"
   ]
  },
  {
   "cell_type": "code",
   "execution_count": 38,
   "metadata": {},
   "outputs": [],
   "source": [
    "data_path = './311/'\n",
    "cur_dir = os.getcwd()\n",
    "\n",
    "os.chdir(data_path)\n",
    "files = glob.glob(\"*.json\")\n",
    "os.chdir(cur_dir)"
   ]
  },
  {
   "cell_type": "code",
   "execution_count": 40,
   "metadata": {},
   "outputs": [],
   "source": [
    "#311\n",
    "\n",
    "three11holder = pd.DataFrame()\n",
    "for file in files:\n",
    "    three11holder = pd.concat([three11holder,pd.read_json((data_path+file), lines=True)],axis=0)"
   ]
  },
  {
   "cell_type": "code",
   "execution_count": 45,
   "metadata": {},
   "outputs": [],
   "source": [
    "merged_311 = pd.concat([three11_df, three11holder], axis=0)"
   ]
  },
  {
   "cell_type": "code",
   "execution_count": 46,
   "metadata": {},
   "outputs": [],
   "source": [
    "grouped_date = merged_311.groupby([merged_311['created_date'],'community_area','sr_type']).agg(total_count=('sr_number','count')).reset_index()\n",
    "pivoted = grouped_date.pivot_table(index=['created_date','community_area'],columns='sr_type',values='total_count',aggfunc='sum').fillna(0).reset_index()\n",
    "pivoted['created_date'] = pd.to_datetime(pivoted['created_date'])\n",
    "pivoted.rename(columns={'created_date':'date'}, inplace=True)\n",
    "pivoted['community_area'] = pivoted['community_area'].astype(int)\n",
    "pivoted['date'] = pd.to_datetime(pivoted['date']).dt.date"
   ]
  },
  {
   "cell_type": "code",
   "execution_count": 47,
   "metadata": {},
   "outputs": [],
   "source": [
    "pivoted.to_csv('oneoff_311.csv', index=False)\n",
    "merged_311.to_csv('oneoff_311_all.csv', index=False)"
   ]
  },
  {
   "cell_type": "code",
   "execution_count": 48,
   "metadata": {},
   "outputs": [
    {
     "data": {
      "text/html": [
       "<div>\n",
       "<style scoped>\n",
       "    .dataframe tbody tr th:only-of-type {\n",
       "        vertical-align: middle;\n",
       "    }\n",
       "\n",
       "    .dataframe tbody tr th {\n",
       "        vertical-align: top;\n",
       "    }\n",
       "\n",
       "    .dataframe thead th {\n",
       "        text-align: right;\n",
       "    }\n",
       "</style>\n",
       "<table border=\"1\" class=\"dataframe\">\n",
       "  <thead>\n",
       "    <tr style=\"text-align: right;\">\n",
       "      <th>sr_type</th>\n",
       "      <th>date</th>\n",
       "      <th>community_area</th>\n",
       "      <th>Abandoned Vehicle Complaint</th>\n",
       "      <th>Aircraft Noise Complaint</th>\n",
       "      <th>Alley Light Out Complaint</th>\n",
       "      <th>Alley Pothole Complaint</th>\n",
       "      <th>Alley Sewer Inspection Request</th>\n",
       "      <th>Animal In Trap Complaint</th>\n",
       "      <th>Bee/Wasp Removal</th>\n",
       "      <th>Bicycle Request/Complaint</th>\n",
       "      <th>...</th>\n",
       "      <th>Vicious Animal Complaint</th>\n",
       "      <th>Wage Complaint</th>\n",
       "      <th>Water Lead Test Kit Request</th>\n",
       "      <th>Water Lead Test Visit Request</th>\n",
       "      <th>Water On Street Complaint</th>\n",
       "      <th>Water Quality Concern</th>\n",
       "      <th>Water in Basement Complaint</th>\n",
       "      <th>Weed Removal Request</th>\n",
       "      <th>Wire Basket Request</th>\n",
       "      <th>Yard Waste Pick-Up Request</th>\n",
       "    </tr>\n",
       "  </thead>\n",
       "  <tbody>\n",
       "    <tr>\n",
       "      <th>0</th>\n",
       "      <td>2019-01-01</td>\n",
       "      <td>53</td>\n",
       "      <td>0.0</td>\n",
       "      <td>0.0</td>\n",
       "      <td>0.0</td>\n",
       "      <td>0.0</td>\n",
       "      <td>0.0</td>\n",
       "      <td>0.0</td>\n",
       "      <td>0.0</td>\n",
       "      <td>0.0</td>\n",
       "      <td>...</td>\n",
       "      <td>0.0</td>\n",
       "      <td>0.0</td>\n",
       "      <td>0.0</td>\n",
       "      <td>0.0</td>\n",
       "      <td>0.0</td>\n",
       "      <td>0.0</td>\n",
       "      <td>0.0</td>\n",
       "      <td>0.0</td>\n",
       "      <td>0.0</td>\n",
       "      <td>0.0</td>\n",
       "    </tr>\n",
       "    <tr>\n",
       "      <th>1</th>\n",
       "      <td>2019-01-01</td>\n",
       "      <td>19</td>\n",
       "      <td>0.0</td>\n",
       "      <td>0.0</td>\n",
       "      <td>0.0</td>\n",
       "      <td>0.0</td>\n",
       "      <td>0.0</td>\n",
       "      <td>0.0</td>\n",
       "      <td>0.0</td>\n",
       "      <td>0.0</td>\n",
       "      <td>...</td>\n",
       "      <td>0.0</td>\n",
       "      <td>0.0</td>\n",
       "      <td>0.0</td>\n",
       "      <td>0.0</td>\n",
       "      <td>0.0</td>\n",
       "      <td>0.0</td>\n",
       "      <td>0.0</td>\n",
       "      <td>0.0</td>\n",
       "      <td>0.0</td>\n",
       "      <td>0.0</td>\n",
       "    </tr>\n",
       "    <tr>\n",
       "      <th>2</th>\n",
       "      <td>2019-01-01</td>\n",
       "      <td>46</td>\n",
       "      <td>0.0</td>\n",
       "      <td>0.0</td>\n",
       "      <td>1.0</td>\n",
       "      <td>0.0</td>\n",
       "      <td>0.0</td>\n",
       "      <td>0.0</td>\n",
       "      <td>0.0</td>\n",
       "      <td>0.0</td>\n",
       "      <td>...</td>\n",
       "      <td>0.0</td>\n",
       "      <td>0.0</td>\n",
       "      <td>0.0</td>\n",
       "      <td>0.0</td>\n",
       "      <td>0.0</td>\n",
       "      <td>0.0</td>\n",
       "      <td>0.0</td>\n",
       "      <td>0.0</td>\n",
       "      <td>0.0</td>\n",
       "      <td>0.0</td>\n",
       "    </tr>\n",
       "    <tr>\n",
       "      <th>3</th>\n",
       "      <td>2019-01-01</td>\n",
       "      <td>4</td>\n",
       "      <td>0.0</td>\n",
       "      <td>0.0</td>\n",
       "      <td>1.0</td>\n",
       "      <td>0.0</td>\n",
       "      <td>0.0</td>\n",
       "      <td>0.0</td>\n",
       "      <td>0.0</td>\n",
       "      <td>0.0</td>\n",
       "      <td>...</td>\n",
       "      <td>0.0</td>\n",
       "      <td>0.0</td>\n",
       "      <td>0.0</td>\n",
       "      <td>0.0</td>\n",
       "      <td>0.0</td>\n",
       "      <td>0.0</td>\n",
       "      <td>0.0</td>\n",
       "      <td>0.0</td>\n",
       "      <td>0.0</td>\n",
       "      <td>0.0</td>\n",
       "    </tr>\n",
       "    <tr>\n",
       "      <th>4</th>\n",
       "      <td>2019-01-01</td>\n",
       "      <td>10</td>\n",
       "      <td>0.0</td>\n",
       "      <td>0.0</td>\n",
       "      <td>0.0</td>\n",
       "      <td>0.0</td>\n",
       "      <td>0.0</td>\n",
       "      <td>0.0</td>\n",
       "      <td>0.0</td>\n",
       "      <td>0.0</td>\n",
       "      <td>...</td>\n",
       "      <td>0.0</td>\n",
       "      <td>0.0</td>\n",
       "      <td>0.0</td>\n",
       "      <td>0.0</td>\n",
       "      <td>0.0</td>\n",
       "      <td>0.0</td>\n",
       "      <td>0.0</td>\n",
       "      <td>0.0</td>\n",
       "      <td>0.0</td>\n",
       "      <td>0.0</td>\n",
       "    </tr>\n",
       "  </tbody>\n",
       "</table>\n",
       "<p>5 rows × 107 columns</p>\n",
       "</div>"
      ],
      "text/plain": [
       "sr_type        date  community_area  Abandoned Vehicle Complaint  \\\n",
       "0        2019-01-01              53                          0.0   \n",
       "1        2019-01-01              19                          0.0   \n",
       "2        2019-01-01              46                          0.0   \n",
       "3        2019-01-01               4                          0.0   \n",
       "4        2019-01-01              10                          0.0   \n",
       "\n",
       "sr_type  Aircraft Noise Complaint  Alley Light Out Complaint  \\\n",
       "0                             0.0                        0.0   \n",
       "1                             0.0                        0.0   \n",
       "2                             0.0                        1.0   \n",
       "3                             0.0                        1.0   \n",
       "4                             0.0                        0.0   \n",
       "\n",
       "sr_type  Alley Pothole Complaint  Alley Sewer Inspection Request  \\\n",
       "0                            0.0                             0.0   \n",
       "1                            0.0                             0.0   \n",
       "2                            0.0                             0.0   \n",
       "3                            0.0                             0.0   \n",
       "4                            0.0                             0.0   \n",
       "\n",
       "sr_type  Animal In Trap Complaint  Bee/Wasp Removal  \\\n",
       "0                             0.0               0.0   \n",
       "1                             0.0               0.0   \n",
       "2                             0.0               0.0   \n",
       "3                             0.0               0.0   \n",
       "4                             0.0               0.0   \n",
       "\n",
       "sr_type  Bicycle Request/Complaint  ...  Vicious Animal Complaint  \\\n",
       "0                              0.0  ...                       0.0   \n",
       "1                              0.0  ...                       0.0   \n",
       "2                              0.0  ...                       0.0   \n",
       "3                              0.0  ...                       0.0   \n",
       "4                              0.0  ...                       0.0   \n",
       "\n",
       "sr_type  Wage Complaint  Water Lead Test Kit Request  \\\n",
       "0                   0.0                          0.0   \n",
       "1                   0.0                          0.0   \n",
       "2                   0.0                          0.0   \n",
       "3                   0.0                          0.0   \n",
       "4                   0.0                          0.0   \n",
       "\n",
       "sr_type  Water Lead Test Visit Request  Water On Street Complaint  \\\n",
       "0                                  0.0                        0.0   \n",
       "1                                  0.0                        0.0   \n",
       "2                                  0.0                        0.0   \n",
       "3                                  0.0                        0.0   \n",
       "4                                  0.0                        0.0   \n",
       "\n",
       "sr_type  Water Quality Concern  Water in Basement Complaint  \\\n",
       "0                          0.0                          0.0   \n",
       "1                          0.0                          0.0   \n",
       "2                          0.0                          0.0   \n",
       "3                          0.0                          0.0   \n",
       "4                          0.0                          0.0   \n",
       "\n",
       "sr_type  Weed Removal Request  Wire Basket Request  Yard Waste Pick-Up Request  \n",
       "0                         0.0                  0.0                         0.0  \n",
       "1                         0.0                  0.0                         0.0  \n",
       "2                         0.0                  0.0                         0.0  \n",
       "3                         0.0                  0.0                         0.0  \n",
       "4                         0.0                  0.0                         0.0  \n",
       "\n",
       "[5 rows x 107 columns]"
      ]
     },
     "execution_count": 48,
     "metadata": {},
     "output_type": "execute_result"
    }
   ],
   "source": [
    "pivoted.head()"
   ]
  }
 ],
 "metadata": {
  "kernelspec": {
   "display_name": "Python 3",
   "language": "python",
   "name": "python3"
  },
  "language_info": {
   "codemirror_mode": {
    "name": "ipython",
    "version": 3
   },
   "file_extension": ".py",
   "mimetype": "text/x-python",
   "name": "python",
   "nbconvert_exporter": "python",
   "pygments_lexer": "ipython3",
   "version": "3.12.1"
  }
 },
 "nbformat": 4,
 "nbformat_minor": 2
}
