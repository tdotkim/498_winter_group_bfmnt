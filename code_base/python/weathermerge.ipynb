{
 "cells": [
  {
   "cell_type": "code",
   "execution_count": 1,
   "metadata": {},
   "outputs": [],
   "source": [
    "import pandas as pd\n",
    "import numpy as np\n",
    "import datetime as dt"
   ]
  },
  {
   "cell_type": "code",
   "execution_count": 2,
   "metadata": {},
   "outputs": [],
   "source": [
    "maindf = pd.read_csv('./etl/results/5_years.csv')"
   ]
  },
  {
   "cell_type": "code",
   "execution_count": 3,
   "metadata": {},
   "outputs": [],
   "source": [
    "weatherdf = pd.read_csv('./weather_data/weather_daily_data.csv')"
   ]
  },
  {
   "cell_type": "code",
   "execution_count": 4,
   "metadata": {},
   "outputs": [
    {
     "data": {
      "text/plain": [
       "(1826, 14)"
      ]
     },
     "execution_count": 4,
     "metadata": {},
     "output_type": "execute_result"
    }
   ],
   "source": [
    "weatherdf.shape"
   ]
  },
  {
   "cell_type": "code",
   "execution_count": 5,
   "metadata": {},
   "outputs": [],
   "source": [
    "maindf['date'] = pd.to_datetime(maindf['date'])"
   ]
  },
  {
   "cell_type": "code",
   "execution_count": 6,
   "metadata": {},
   "outputs": [],
   "source": [
    "weatherdf['time'] = pd.to_datetime(weatherdf['time'])"
   ]
  },
  {
   "cell_type": "code",
   "execution_count": 7,
   "metadata": {},
   "outputs": [
    {
     "data": {
      "text/html": [
       "<div>\n",
       "<style scoped>\n",
       "    .dataframe tbody tr th:only-of-type {\n",
       "        vertical-align: middle;\n",
       "    }\n",
       "\n",
       "    .dataframe tbody tr th {\n",
       "        vertical-align: top;\n",
       "    }\n",
       "\n",
       "    .dataframe thead th {\n",
       "        text-align: right;\n",
       "    }\n",
       "</style>\n",
       "<table border=\"1\" class=\"dataframe\">\n",
       "  <thead>\n",
       "    <tr style=\"text-align: right;\">\n",
       "      <th></th>\n",
       "      <th>time</th>\n",
       "      <th>tavg</th>\n",
       "      <th>tmin</th>\n",
       "      <th>tmax</th>\n",
       "      <th>prcp</th>\n",
       "      <th>snow</th>\n",
       "      <th>wdir</th>\n",
       "      <th>wspd</th>\n",
       "      <th>wpgt</th>\n",
       "      <th>pres</th>\n",
       "      <th>tsun</th>\n",
       "      <th>tempmax_f</th>\n",
       "      <th>tempmin_f</th>\n",
       "      <th>tempavg_f</th>\n",
       "    </tr>\n",
       "  </thead>\n",
       "  <tbody>\n",
       "    <tr>\n",
       "      <th>0</th>\n",
       "      <td>2019-01-01</td>\n",
       "      <td>-0.7</td>\n",
       "      <td>-2.8</td>\n",
       "      <td>2.2</td>\n",
       "      <td>0.0</td>\n",
       "      <td>0.0</td>\n",
       "      <td>342.0</td>\n",
       "      <td>14.2</td>\n",
       "      <td>NaN</td>\n",
       "      <td>1024.1</td>\n",
       "      <td>NaN</td>\n",
       "      <td>35.96</td>\n",
       "      <td>26.96</td>\n",
       "      <td>30.74</td>\n",
       "    </tr>\n",
       "    <tr>\n",
       "      <th>1</th>\n",
       "      <td>2019-01-02</td>\n",
       "      <td>-1.3</td>\n",
       "      <td>-2.8</td>\n",
       "      <td>0.0</td>\n",
       "      <td>0.3</td>\n",
       "      <td>0.0</td>\n",
       "      <td>238.0</td>\n",
       "      <td>15.0</td>\n",
       "      <td>NaN</td>\n",
       "      <td>1021.5</td>\n",
       "      <td>NaN</td>\n",
       "      <td>32.00</td>\n",
       "      <td>26.96</td>\n",
       "      <td>29.66</td>\n",
       "    </tr>\n",
       "    <tr>\n",
       "      <th>2</th>\n",
       "      <td>2019-01-03</td>\n",
       "      <td>0.0</td>\n",
       "      <td>-3.9</td>\n",
       "      <td>5.0</td>\n",
       "      <td>0.0</td>\n",
       "      <td>0.0</td>\n",
       "      <td>223.0</td>\n",
       "      <td>18.3</td>\n",
       "      <td>NaN</td>\n",
       "      <td>1017.1</td>\n",
       "      <td>NaN</td>\n",
       "      <td>41.00</td>\n",
       "      <td>24.98</td>\n",
       "      <td>32.00</td>\n",
       "    </tr>\n",
       "    <tr>\n",
       "      <th>3</th>\n",
       "      <td>2019-01-04</td>\n",
       "      <td>3.7</td>\n",
       "      <td>0.0</td>\n",
       "      <td>10.0</td>\n",
       "      <td>0.0</td>\n",
       "      <td>0.0</td>\n",
       "      <td>246.0</td>\n",
       "      <td>13.5</td>\n",
       "      <td>NaN</td>\n",
       "      <td>1009.1</td>\n",
       "      <td>NaN</td>\n",
       "      <td>50.00</td>\n",
       "      <td>32.00</td>\n",
       "      <td>38.66</td>\n",
       "    </tr>\n",
       "    <tr>\n",
       "      <th>4</th>\n",
       "      <td>2019-01-05</td>\n",
       "      <td>5.0</td>\n",
       "      <td>-0.6</td>\n",
       "      <td>11.7</td>\n",
       "      <td>0.0</td>\n",
       "      <td>0.0</td>\n",
       "      <td>262.0</td>\n",
       "      <td>12.9</td>\n",
       "      <td>NaN</td>\n",
       "      <td>1011.8</td>\n",
       "      <td>NaN</td>\n",
       "      <td>53.06</td>\n",
       "      <td>30.92</td>\n",
       "      <td>41.00</td>\n",
       "    </tr>\n",
       "  </tbody>\n",
       "</table>\n",
       "</div>"
      ],
      "text/plain": [
       "        time  tavg  tmin  tmax  prcp  snow   wdir  wspd  wpgt    pres  tsun  \\\n",
       "0 2019-01-01  -0.7  -2.8   2.2   0.0   0.0  342.0  14.2   NaN  1024.1   NaN   \n",
       "1 2019-01-02  -1.3  -2.8   0.0   0.3   0.0  238.0  15.0   NaN  1021.5   NaN   \n",
       "2 2019-01-03   0.0  -3.9   5.0   0.0   0.0  223.0  18.3   NaN  1017.1   NaN   \n",
       "3 2019-01-04   3.7   0.0  10.0   0.0   0.0  246.0  13.5   NaN  1009.1   NaN   \n",
       "4 2019-01-05   5.0  -0.6  11.7   0.0   0.0  262.0  12.9   NaN  1011.8   NaN   \n",
       "\n",
       "   tempmax_f  tempmin_f  tempavg_f  \n",
       "0      35.96      26.96      30.74  \n",
       "1      32.00      26.96      29.66  \n",
       "2      41.00      24.98      32.00  \n",
       "3      50.00      32.00      38.66  \n",
       "4      53.06      30.92      41.00  "
      ]
     },
     "execution_count": 7,
     "metadata": {},
     "output_type": "execute_result"
    }
   ],
   "source": [
    "weatherdf.head()"
   ]
  },
  {
   "cell_type": "code",
   "execution_count": 10,
   "metadata": {},
   "outputs": [],
   "source": [
    "merged_df = pd.merge(maindf, weatherdf[['time','prcp','snow','tempmax_f', 'tempmin_f', 'tempavg_f']], how='left', left_on=maindf['date'].dt.date, right_on=weatherdf['time'].dt.date)"
   ]
  },
  {
   "cell_type": "code",
   "execution_count": 12,
   "metadata": {},
   "outputs": [
    {
     "data": {
      "text/plain": [
       "Index(['key_0', 'id', 'case_number', 'date', 'block', 'iucr', 'primary_type',\n",
       "       'description', 'location_description', 'arrest', 'domestic', 'beat',\n",
       "       'district', 'ward', 'community_area', 'fbi_code', 'year', 'updated_on',\n",
       "       'x_coordinate', 'y_coordinate', 'latitude', 'longitude',\n",
       "       'location.latitude', 'location.longitude', 'location.human_address',\n",
       "       'total_offenders_in_ca', 'total_complaints_in_ca', 'time', 'prcp',\n",
       "       'snow', 'tempmax_f', 'tempmin_f', 'tempavg_f'],\n",
       "      dtype='object')"
      ]
     },
     "execution_count": 12,
     "metadata": {},
     "output_type": "execute_result"
    }
   ],
   "source": [
    "merged_df.columns"
   ]
  },
  {
   "cell_type": "code",
   "execution_count": 13,
   "metadata": {},
   "outputs": [],
   "source": [
    "merged_df.drop(['key_0','time','x_coordinate', 'y_coordinate',], axis=1, inplace=True)"
   ]
  },
  {
   "cell_type": "code",
   "execution_count": 14,
   "metadata": {},
   "outputs": [],
   "source": [
    "merged_df.to_csv('./etl/results/5_years_merged_with_weather.csv', index=False)"
   ]
  }
 ],
 "metadata": {
  "kernelspec": {
   "display_name": "Python 3",
   "language": "python",
   "name": "python3"
  },
  "language_info": {
   "codemirror_mode": {
    "name": "ipython",
    "version": 3
   },
   "file_extension": ".py",
   "mimetype": "text/x-python",
   "name": "python",
   "nbconvert_exporter": "python",
   "pygments_lexer": "ipython3",
   "version": "3.9.10"
  }
 },
 "nbformat": 4,
 "nbformat_minor": 2
}
