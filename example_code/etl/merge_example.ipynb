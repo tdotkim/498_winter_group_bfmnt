{
 "cells": [
  {
   "cell_type": "code",
   "execution_count": 1,
   "metadata": {},
   "outputs": [],
   "source": [
    "import pandas as pd\n",
    "import os\n",
    "import json\n",
    "import glob\n",
    "from shapely.geometry  import shape, Point\n",
    "from geopy.geocoders import Nominatim\n",
    "import numpy as np"
   ]
  },
  {
   "cell_type": "code",
   "execution_count": 2,
   "metadata": {},
   "outputs": [],
   "source": [
    "output_name = '5_years'"
   ]
  },
  {
   "cell_type": "code",
   "execution_count": 3,
   "metadata": {},
   "outputs": [],
   "source": [
    "geolocator = Nominatim(user_agent=\"test_tk\")"
   ]
  },
  {
   "cell_type": "code",
   "execution_count": 4,
   "metadata": {},
   "outputs": [],
   "source": [
    "os.makedirs('./results', exist_ok=True )"
   ]
  },
  {
   "cell_type": "code",
   "execution_count": 5,
   "metadata": {},
   "outputs": [],
   "source": [
    "data_path = '../download_with_python/data/'\n",
    "cur_dir = os.getcwd()"
   ]
  },
  {
   "cell_type": "code",
   "execution_count": 6,
   "metadata": {},
   "outputs": [],
   "source": [
    "os.chdir(data_path)\n",
    "files = glob.glob(\"*.json\")\n",
    "os.chdir(cur_dir)"
   ]
  },
  {
   "cell_type": "code",
   "execution_count": 8,
   "metadata": {},
   "outputs": [
    {
     "ename": "NameError",
     "evalue": "name 'i' is not defined",
     "output_type": "error",
     "traceback": [
      "\u001b[1;31m---------------------------------------------------------------------------\u001b[0m",
      "\u001b[1;31mNameError\u001b[0m                                 Traceback (most recent call last)",
      "\u001b[1;32mc:\\Users\\tkkim\\OneDrive\\Desktop\\498_winter_group_bfmnt\\example_code\\etl\\merge_example.ipynb Cell 7\u001b[0m line \u001b[0;36m2\n\u001b[0;32m     <a href='vscode-notebook-cell:/c%3A/Users/tkkim/OneDrive/Desktop/498_winter_group_bfmnt/example_code/etl/merge_example.ipynb#W6sZmlsZQ%3D%3D?line=18'>19</a>\u001b[0m     offenders_dict[name\u001b[39m+\u001b[39m\u001b[39mf\u001b[39m\u001b[39m'\u001b[39m\u001b[39m_\u001b[39m\u001b[39m{\u001b[39;00moffenders_i\u001b[39m}\u001b[39;00m\u001b[39m'\u001b[39m][[\u001b[39m'\u001b[39m\u001b[39mstnum\u001b[39m\u001b[39m'\u001b[39m,\u001b[39m'\u001b[39m\u001b[39mrestofadd\u001b[39m\u001b[39m'\u001b[39m]] \u001b[39m=\u001b[39m offenders_dict[name\u001b[39m+\u001b[39m\u001b[39mf\u001b[39m\u001b[39m'\u001b[39m\u001b[39m_\u001b[39m\u001b[39m{\u001b[39;00moffenders_i\u001b[39m}\u001b[39;00m\u001b[39m'\u001b[39m][\u001b[39m'\u001b[39m\u001b[39mblock\u001b[39m\u001b[39m'\u001b[39m]\u001b[39m.\u001b[39mstr\u001b[39m.\u001b[39msplit(\u001b[39m\"\u001b[39m\u001b[39m \u001b[39m\u001b[39m\"\u001b[39m, n\u001b[39m=\u001b[39m\u001b[39m1\u001b[39m, expand\u001b[39m=\u001b[39m\u001b[39mTrue\u001b[39;00m)\n\u001b[0;32m     <a href='vscode-notebook-cell:/c%3A/Users/tkkim/OneDrive/Desktop/498_winter_group_bfmnt/example_code/etl/merge_example.ipynb#W6sZmlsZQ%3D%3D?line=19'>20</a>\u001b[0m     offenders_dict[name\u001b[39m+\u001b[39m\u001b[39mf\u001b[39m\u001b[39m'\u001b[39m\u001b[39m_\u001b[39m\u001b[39m{\u001b[39;00moffenders_i\u001b[39m}\u001b[39;00m\u001b[39m'\u001b[39m][\u001b[39m'\u001b[39m\u001b[39mstnum\u001b[39m\u001b[39m'\u001b[39m] \u001b[39m=\u001b[39m offenders_dict[name\u001b[39m+\u001b[39m\u001b[39mf\u001b[39m\u001b[39m'\u001b[39m\u001b[39m_\u001b[39m\u001b[39m{\u001b[39;00moffenders_i\u001b[39m}\u001b[39;00m\u001b[39m'\u001b[39m][\u001b[39m'\u001b[39m\u001b[39mstnum\u001b[39m\u001b[39m'\u001b[39m]\u001b[39m.\u001b[39mastype(\u001b[39mint\u001b[39m) \n\u001b[1;32m---> <a href='vscode-notebook-cell:/c%3A/Users/tkkim/OneDrive/Desktop/498_winter_group_bfmnt/example_code/etl/merge_example.ipynb#W6sZmlsZQ%3D%3D?line=20'>21</a>\u001b[0m     offenders_dict[name\u001b[39m+\u001b[39m\u001b[39mf\u001b[39m\u001b[39m'\u001b[39m\u001b[39m_\u001b[39m\u001b[39m{\u001b[39;00moffenders_i\u001b[39m}\u001b[39;00m\u001b[39m'\u001b[39m][\u001b[39m'\u001b[39m\u001b[39mfixed_addr\u001b[39m\u001b[39m'\u001b[39m] \u001b[39m=\u001b[39m offenders_dict[name\u001b[39m+\u001b[39m\u001b[39mf\u001b[39m\u001b[39m'\u001b[39m\u001b[39m_\u001b[39m\u001b[39m{\u001b[39;00moffenders_i\u001b[39m}\u001b[39;00m\u001b[39m'\u001b[39m][\u001b[39m'\u001b[39m\u001b[39mstnum\u001b[39m\u001b[39m'\u001b[39m]\u001b[39m.\u001b[39mastype(\u001b[39mstr\u001b[39m) \u001b[39m+\u001b[39m \u001b[39m'\u001b[39m\u001b[39m \u001b[39m\u001b[39m'\u001b[39m \u001b[39m+\u001b[39m offenders_dict[name\u001b[39m+\u001b[39m\u001b[39mf\u001b[39m\u001b[39m'\u001b[39m\u001b[39m_\u001b[39m\u001b[39m{\u001b[39;00mi\u001b[39m}\u001b[39;00m\u001b[39m'\u001b[39m][\u001b[39m'\u001b[39m\u001b[39mrestofadd\u001b[39m\u001b[39m'\u001b[39m]\n\u001b[0;32m     <a href='vscode-notebook-cell:/c%3A/Users/tkkim/OneDrive/Desktop/498_winter_group_bfmnt/example_code/etl/merge_example.ipynb#W6sZmlsZQ%3D%3D?line=21'>22</a>\u001b[0m \u001b[39melif\u001b[39;00m name \u001b[39m==\u001b[39m \u001b[39m'\u001b[39m\u001b[39menvcomplaint5\u001b[39m\u001b[39m'\u001b[39m:\n\u001b[0;32m     <a href='vscode-notebook-cell:/c%3A/Users/tkkim/OneDrive/Desktop/498_winter_group_bfmnt/example_code/etl/merge_example.ipynb#W6sZmlsZQ%3D%3D?line=22'>23</a>\u001b[0m     env_dict[name\u001b[39m+\u001b[39m\u001b[39mf\u001b[39m\u001b[39m'\u001b[39m\u001b[39m_\u001b[39m\u001b[39m{\u001b[39;00menv_i\u001b[39m}\u001b[39;00m\u001b[39m'\u001b[39m] \u001b[39m=\u001b[39m pd\u001b[39m.\u001b[39mread_json((data_path\u001b[39m+\u001b[39mfile), lines\u001b[39m=\u001b[39m\u001b[39mTrue\u001b[39;00m)\n",
      "\u001b[1;31mNameError\u001b[0m: name 'i' is not defined"
     ]
    }
   ],
   "source": [
    "crimes_dict = {}\n",
    "offenders_dict = {}\n",
    "env_dict = {}\n",
    "crimes_i = 0\n",
    "env_i = 0\n",
    "offenders_i = 0\n",
    "\n",
    "for file in files:\n",
    "    name = file.split(sep=\"_\")[0]\n",
    "    if name == 'crime5':\n",
    "        crimes_dict[name+f'_{crimes_i}'] = pd.read_json((data_path+file), lines=True)\n",
    "        crimes_i += 1\n",
    "    elif name == 'offenders':\n",
    "        offenders_dict[name+f'_{offenders_i}'] = pd.read_json((data_path+file), lines=True)\n",
    "        # drop registered as homeless offenders\n",
    "        offenders_dict[name+f'_{offenders_i}'] = offenders_dict[name+f'_{offenders_i}'][~(offenders_dict[name+f'_{offenders_i}']['block'] == '(registered as homeless)')]\n",
    "        # replace anonymized house number with 0 (replaces X with 0)\n",
    "        offenders_dict[name+f'_{offenders_i}']['block'] = offenders_dict[name+f'_{offenders_i}']['block'].str.replace('X','0') + ' CHICAGO'\n",
    "        offenders_dict[name+f'_{offenders_i}'][['stnum','restofadd']] = offenders_dict[name+f'_{offenders_i}']['block'].str.split(\" \", n=1, expand=True)\n",
    "        offenders_dict[name+f'_{offenders_i}']['stnum'] = offenders_dict[name+f'_{offenders_i}']['stnum'].astype(int) \n",
    "        offenders_dict[name+f'_{offenders_i}']['fixed_addr'] = offenders_dict[name+f'_{offenders_i}']['stnum'].astype(str) + ' ' + offenders_dict[name+f'_{offenders_i}']['restofadd']\n",
    "    elif name == 'envcomplaint5':\n",
    "        env_dict[name+f'_{env_i}'] = pd.read_json((data_path+file), lines=True)\n",
    "        env_i += 1\n",
    "    else:\n",
    "        print(f'error on {file}')\n",
    "\n"
   ]
  },
  {
   "cell_type": "code",
   "execution_count": null,
   "metadata": {},
   "outputs": [],
   "source": [
    "# TO DO\n",
    "# make merger function to merge like for like"
   ]
  },
  {
   "cell_type": "code",
   "execution_count": null,
   "metadata": {},
   "outputs": [],
   "source": [
    "# define geojsons\n",
    "with open('../../geojsons/Boundaries - Community Areas (current).geojson') as f:\n",
    "    commarea = json.load(f)"
   ]
  },
  {
   "cell_type": "code",
   "execution_count": null,
   "metadata": {},
   "outputs": [],
   "source": [
    "def merge_df(dictionary):\n",
    "    merged_df = pd.DataFrame()\n",
    "    for datfram in dictionary:\n",
    "        merged_df= pd.concat([merged_df,dictionary[datfram]],axis=0)\n",
    "        print(merged_df.shape[0])\n",
    "    return merged_df"
   ]
  },
  {
   "cell_type": "code",
   "execution_count": null,
   "metadata": {},
   "outputs": [
    {
     "data": {
      "text/plain": [
       "dict_keys(['crime5_0', 'crime5_1', 'crime5_2'])"
      ]
     },
     "execution_count": 106,
     "metadata": {},
     "output_type": "execute_result"
    }
   ],
   "source": [
    "crimes_dict.keys()"
   ]
  },
  {
   "cell_type": "code",
   "execution_count": null,
   "metadata": {},
   "outputs": [
    {
     "name": "stdout",
     "output_type": "stream",
     "text": [
      "500000\n",
      "1000000\n",
      "1181139\n",
      "2864\n",
      "9410\n"
     ]
    }
   ],
   "source": [
    "merged_crimes = merge_df(crimes_dict)\n",
    "merged_offenders = merge_df(offenders_dict)\n",
    "merged_envcomplaints = merge_df(env_dict)"
   ]
  },
  {
   "cell_type": "code",
   "execution_count": null,
   "metadata": {},
   "outputs": [],
   "source": [
    "def get_commarea_env(dataframe):\n",
    "    dataframe['community_area']=''\n",
    "    for row in dataframe.index:\n",
    "        point = Point(dataframe['location.coordinates'][row][0],dataframe['location.coordinates'][row][1])\n",
    "        for feature in commarea['features']:\n",
    "            polygon = shape(feature['geometry'])\n",
    "            if polygon.contains(point):\n",
    "                dataframe['community_area'][row] = feature['properties']['area_numbe']"
   ]
  },
  {
   "cell_type": "code",
   "execution_count": null,
   "metadata": {},
   "outputs": [],
   "source": [
    "qq = geolocator.geocode('7200 S SOUTH SHORE DR CHICAGO')\n"
   ]
  },
  {
   "cell_type": "code",
   "execution_count": null,
   "metadata": {},
   "outputs": [
    {
     "name": "stdout",
     "output_type": "stream",
     "text": [
      "43\n"
     ]
    }
   ],
   "source": [
    "latlong = [qq.latitude, qq.longitude]\n",
    "point = Point(latlong[1], latlong[0])\n",
    "for feature in commarea['features']:\n",
    "    polygon = shape(feature['geometry'])\n",
    "    if polygon.contains(point):\n",
    "        print( feature['properties']['area_numbe'])\n",
    "        "
   ]
  },
  {
   "cell_type": "code",
   "execution_count": null,
   "metadata": {},
   "outputs": [
    {
     "data": {
      "text/plain": [
       "'9'"
      ]
     },
     "execution_count": 112,
     "metadata": {},
     "output_type": "execute_result"
    }
   ],
   "source": [
    "feature['properties']['area_numbe']"
   ]
  },
  {
   "cell_type": "code",
   "execution_count": null,
   "metadata": {},
   "outputs": [],
   "source": [
    "def getpoint(address):\n",
    "    loc = geolocator.geocode(address)\n",
    "    latlong = [loc.latitude, loc.longitude]\n",
    "    point = Point(latlong[1], latlong[0])   \n",
    "    return point"
   ]
  },
  {
   "cell_type": "code",
   "execution_count": null,
   "metadata": {},
   "outputs": [],
   "source": [
    "def findarea(point):    \n",
    "    for feature in commarea['features']:\n",
    "        polygon = shape(feature['geometry'])\n",
    "        if polygon.contains(point):\n",
    "           return feature['properties']['area_numbe']\n",
    "        else:\n",
    "            continue\n",
    "        "
   ]
  },
  {
   "cell_type": "code",
   "execution_count": null,
   "metadata": {},
   "outputs": [],
   "source": [
    "def get_commarea_offenders(dataframe):\n",
    "    dataframe['community_area']=''\n",
    "    i=0\n",
    "    for row in dataframe.index:\n",
    "        try:\n",
    "            point = getpoint(dataframe['fixed_addr'][row])\n",
    "            dataframe['community_area'][row] = findarea(point)\n",
    "        except:\n",
    "            dataframe['community_area'][row] = 'no match to osm'\n",
    "        print(f'{round((i/dataframe.shape[0]),4)*100}% done')\n",
    "        i+=1\n",
    "    return dataframe\n"
   ]
  },
  {
   "cell_type": "code",
   "execution_count": null,
   "metadata": {},
   "outputs": [
    {
     "name": "stderr",
     "output_type": "stream",
     "text": [
      "C:\\Users\\tkkim\\AppData\\Local\\Temp\\ipykernel_1284\\2635954889.py:8: SettingWithCopyWarning: \n",
      "A value is trying to be set on a copy of a slice from a DataFrame\n",
      "\n",
      "See the caveats in the documentation: https://pandas.pydata.org/pandas-docs/stable/user_guide/indexing.html#returning-a-view-versus-a-copy\n",
      "  dataframe['community_area'][row] = feature['properties']['area_numbe']\n"
     ]
    }
   ],
   "source": [
    "get_commarea_env(merged_envcomplaints)\n"
   ]
  },
  {
   "cell_type": "code",
   "execution_count": null,
   "metadata": {},
   "outputs": [],
   "source": [
    "merged_crimes.to_csv(f'./results/crimes_cleaned_{output_name}.csv', index=False)\n",
    "#merged_offenders.to_csv('./results/offeders_cleaned.csv', index=False)\n",
    "merged_envcomplaints.to_csv(f'./results/crimes_envcomplaints_{output_name}.csv', index=False)"
   ]
  },
  {
   "cell_type": "code",
   "execution_count": null,
   "metadata": {},
   "outputs": [],
   "source": [
    "#grouped_offenders_by_commarea = merged_offenders.groupby('community_area').agg(total_offenders_in_ca=('last','count')).reset_index()\n",
    "#grouped_offenders_by_commarea.to_csv('./results/offenders_by_community_area.csv', index=False)\n",
    "grouped_offenders_by_commarea = pd.read_csv('./results/offenders_by_community_area.csv')"
   ]
  },
  {
   "cell_type": "code",
   "execution_count": null,
   "metadata": {},
   "outputs": [],
   "source": [
    "grouped_complaints_by_commarea = merged_envcomplaints.groupby('community_area').agg(total_complaints_in_ca=('complaint_id','count')).reset_index()\n",
    "grouped_complaints_by_commarea.to_csv(f'./results/envcomplaints_by_community_area_{output_name}.csv', index=False)"
   ]
  },
  {
   "cell_type": "code",
   "execution_count": null,
   "metadata": {},
   "outputs": [
    {
     "data": {
      "text/html": [
       "<div>\n",
       "<style scoped>\n",
       "    .dataframe tbody tr th:only-of-type {\n",
       "        vertical-align: middle;\n",
       "    }\n",
       "\n",
       "    .dataframe tbody tr th {\n",
       "        vertical-align: top;\n",
       "    }\n",
       "\n",
       "    .dataframe thead th {\n",
       "        text-align: right;\n",
       "    }\n",
       "</style>\n",
       "<table border=\"1\" class=\"dataframe\">\n",
       "  <thead>\n",
       "    <tr style=\"text-align: right;\">\n",
       "      <th></th>\n",
       "      <th>community_area</th>\n",
       "      <th>total_offenders_in_ca</th>\n",
       "    </tr>\n",
       "  </thead>\n",
       "  <tbody>\n",
       "    <tr>\n",
       "      <th>0</th>\n",
       "      <td>1</td>\n",
       "      <td>21</td>\n",
       "    </tr>\n",
       "    <tr>\n",
       "      <th>1</th>\n",
       "      <td>10</td>\n",
       "      <td>15</td>\n",
       "    </tr>\n",
       "    <tr>\n",
       "      <th>2</th>\n",
       "      <td>11</td>\n",
       "      <td>14</td>\n",
       "    </tr>\n",
       "    <tr>\n",
       "      <th>3</th>\n",
       "      <td>12</td>\n",
       "      <td>6</td>\n",
       "    </tr>\n",
       "    <tr>\n",
       "      <th>4</th>\n",
       "      <td>13</td>\n",
       "      <td>3</td>\n",
       "    </tr>\n",
       "    <tr>\n",
       "      <th>...</th>\n",
       "      <td>...</td>\n",
       "      <td>...</td>\n",
       "    </tr>\n",
       "    <tr>\n",
       "      <th>71</th>\n",
       "      <td>76</td>\n",
       "      <td>11</td>\n",
       "    </tr>\n",
       "    <tr>\n",
       "      <th>72</th>\n",
       "      <td>77</td>\n",
       "      <td>24</td>\n",
       "    </tr>\n",
       "    <tr>\n",
       "      <th>73</th>\n",
       "      <td>8</td>\n",
       "      <td>16</td>\n",
       "    </tr>\n",
       "    <tr>\n",
       "      <th>74</th>\n",
       "      <td>9</td>\n",
       "      <td>4</td>\n",
       "    </tr>\n",
       "    <tr>\n",
       "      <th>75</th>\n",
       "      <td>999</td>\n",
       "      <td>594</td>\n",
       "    </tr>\n",
       "  </tbody>\n",
       "</table>\n",
       "<p>76 rows × 2 columns</p>\n",
       "</div>"
      ],
      "text/plain": [
       "    community_area  total_offenders_in_ca\n",
       "0                1                     21\n",
       "1               10                     15\n",
       "2               11                     14\n",
       "3               12                      6\n",
       "4               13                      3\n",
       "..             ...                    ...\n",
       "71              76                     11\n",
       "72              77                     24\n",
       "73               8                     16\n",
       "74               9                      4\n",
       "75             999                    594\n",
       "\n",
       "[76 rows x 2 columns]"
      ]
     },
     "execution_count": 120,
     "metadata": {},
     "output_type": "execute_result"
    }
   ],
   "source": [
    "grouped_offenders_by_commarea['community_area'] = grouped_offenders_by_commarea['community_area'].replace('no match to osm', 999).astype(int)\n",
    "grouped_offenders_by_commarea\n"
   ]
  },
  {
   "cell_type": "code",
   "execution_count": null,
   "metadata": {},
   "outputs": [],
   "source": [
    "big_df = merged_crimes.merge(grouped_offenders_by_commarea, how='left', on='community_area')"
   ]
  },
  {
   "cell_type": "code",
   "execution_count": null,
   "metadata": {},
   "outputs": [],
   "source": [
    "grouped_complaints_by_commarea = grouped_complaints_by_commarea[grouped_complaints_by_commarea['community_area'] != '']"
   ]
  },
  {
   "cell_type": "code",
   "execution_count": null,
   "metadata": {},
   "outputs": [],
   "source": [
    "grouped_complaints_by_commarea['community_area'] = grouped_complaints_by_commarea['community_area'].astype('int64')"
   ]
  },
  {
   "cell_type": "code",
   "execution_count": null,
   "metadata": {},
   "outputs": [],
   "source": [
    "big_df = big_df.merge(grouped_complaints_by_commarea, how='left', on='community_area')"
   ]
  },
  {
   "cell_type": "code",
   "execution_count": null,
   "metadata": {},
   "outputs": [],
   "source": [
    "big_df.to_csv(f'./results/{output_name}.csv', index=False)"
   ]
  },
  {
   "cell_type": "code",
   "execution_count": null,
   "metadata": {},
   "outputs": [
    {
     "data": {
      "text/plain": [
       "Timestamp('2023-12-31 00:00:00')"
      ]
     },
     "execution_count": 127,
     "metadata": {},
     "output_type": "execute_result"
    }
   ],
   "source": [
    "big_df['date'].max()"
   ]
  }
 ],
 "metadata": {
  "kernelspec": {
   "display_name": "base",
   "language": "python",
   "name": "python3"
  },
  "language_info": {
   "codemirror_mode": {
    "name": "ipython",
    "version": 3
   },
   "file_extension": ".py",
   "mimetype": "text/x-python",
   "name": "python",
   "nbconvert_exporter": "python",
   "pygments_lexer": "ipython3",
   "version": "3.11.5"
  }
 },
 "nbformat": 4,
 "nbformat_minor": 2
}
